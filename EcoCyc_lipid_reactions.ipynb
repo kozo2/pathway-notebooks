{
 "cells": [
  {
   "cell_type": "code",
   "execution_count": 1,
   "metadata": {},
   "outputs": [],
   "source": [
    "import pandas as pd"
   ]
  },
  {
   "cell_type": "code",
   "execution_count": 3,
   "metadata": {},
   "outputs": [
    {
     "data": {
      "text/plain": [
       "'0.24.2'"
      ]
     },
     "execution_count": 3,
     "metadata": {},
     "output_type": "execute_result"
    }
   ],
   "source": [
    "pd.__version__"
   ]
  },
  {
   "cell_type": "code",
   "execution_count": 4,
   "metadata": {},
   "outputs": [],
   "source": [
    "df = pd.read_csv(\"./Downloads/EcoCyc_reactions_of_Fatty_Acid_and_Lipid_Biosynthesis.txt\", sep=\"\\t\")"
   ]
  },
  {
   "cell_type": "code",
   "execution_count": 5,
   "metadata": {},
   "outputs": [
    {
     "data": {
      "text/html": [
       "<div>\n",
       "<style scoped>\n",
       "    .dataframe tbody tr th:only-of-type {\n",
       "        vertical-align: middle;\n",
       "    }\n",
       "\n",
       "    .dataframe tbody tr th {\n",
       "        vertical-align: top;\n",
       "    }\n",
       "\n",
       "    .dataframe thead th {\n",
       "        text-align: right;\n",
       "    }\n",
       "</style>\n",
       "<table border=\"1\" class=\"dataframe\">\n",
       "  <thead>\n",
       "    <tr style=\"text-align: right;\">\n",
       "      <th></th>\n",
       "      <th>New column</th>\n",
       "      <th>Reactions of pathway</th>\n",
       "    </tr>\n",
       "  </thead>\n",
       "  <tbody>\n",
       "    <tr>\n",
       "      <th>0</th>\n",
       "      <td>LPSSYN-PWY</td>\n",
       "      <td>RXN-19737 // RXN0-5127 // RXN0-5126 // RXN0-51...</td>\n",
       "    </tr>\n",
       "    <tr>\n",
       "      <th>1</th>\n",
       "      <td>KDO-NAGLIPASYN-PWY</td>\n",
       "      <td>RXN-16804 // DARAB5PISOM-RXN // KDO-8PSYNTH-RX...</td>\n",
       "    </tr>\n",
       "    <tr>\n",
       "      <th>2</th>\n",
       "      <td>NAGLIPASYN-PWY</td>\n",
       "      <td>UDPNACETYLGLUCOSAMACYLTRANS-RXN // UDPACYLGLCN...</td>\n",
       "    </tr>\n",
       "    <tr>\n",
       "      <th>3</th>\n",
       "      <td>LIPA-CORESYN-PWY</td>\n",
       "      <td>RXN-19737 // RXN0-5127 // RXN0-5126 // RXN0-51...</td>\n",
       "    </tr>\n",
       "    <tr>\n",
       "      <th>4</th>\n",
       "      <td>PWY0-1264</td>\n",
       "      <td>RXN0-5055 // BIOTIN-CARBOXYL-RXN // RXN-7101 /...</td>\n",
       "    </tr>\n",
       "  </tbody>\n",
       "</table>\n",
       "</div>"
      ],
      "text/plain": [
       "           New column                               Reactions of pathway\n",
       "0          LPSSYN-PWY  RXN-19737 // RXN0-5127 // RXN0-5126 // RXN0-51...\n",
       "1  KDO-NAGLIPASYN-PWY  RXN-16804 // DARAB5PISOM-RXN // KDO-8PSYNTH-RX...\n",
       "2      NAGLIPASYN-PWY  UDPNACETYLGLUCOSAMACYLTRANS-RXN // UDPACYLGLCN...\n",
       "3    LIPA-CORESYN-PWY  RXN-19737 // RXN0-5127 // RXN0-5126 // RXN0-51...\n",
       "4           PWY0-1264  RXN0-5055 // BIOTIN-CARBOXYL-RXN // RXN-7101 /..."
      ]
     },
     "execution_count": 5,
     "metadata": {},
     "output_type": "execute_result"
    }
   ],
   "source": [
    "df.head()"
   ]
  },
  {
   "cell_type": "code",
   "execution_count": 7,
   "metadata": {},
   "outputs": [
    {
     "data": {
      "text/plain": [
       "0     RXN-19737 // RXN0-5127 // RXN0-5126 // RXN0-51...\n",
       "1     RXN-16804 // DARAB5PISOM-RXN // KDO-8PSYNTH-RX...\n",
       "2     UDPNACETYLGLUCOSAMACYLTRANS-RXN // UDPACYLGLCN...\n",
       "3     RXN-19737 // RXN0-5127 // RXN0-5126 // RXN0-51...\n",
       "4     RXN0-5055 // BIOTIN-CARBOXYL-RXN // RXN-7101 /...\n",
       "5          MYRISTOYLACYLTRAN-RXN // LAUROYLACYLTRAN-RXN\n",
       "6     RXN0-7012 // RXN-10462 // 1-ACYLGLYCEROL-3-P-A...\n",
       "7             PHOSPHASERDECARB-RXN // PHOSPHASERSYN-RXN\n",
       "8     GLYC3PDEHYDROGBIOSYN-RXN // RXN-1381 // RXN-16...\n",
       "9     RXN-10462 // CDPDIGLYSYN-RXN // 1-ACYLGLYCEROL...\n",
       "10    PHOSPHAGLYPSYN-RXN // CARDIOLIPSYN-RXN // PGPP...\n",
       "11    RXN0-7012 // PGPPHOSPHA-RXN // PHOSPHAGLYPSYN-RXN\n",
       "12    MALONYL-ACPDECARBOX-RXN // RXN0-5055 // 2.3.1....\n",
       "13    ENOYL-ACP-REDUCT-NADPH-RXN // 3-OXOACYL-ACP-SY...\n",
       "14    ENOYL-ACP-REDUCT-NADPH-RXN // 3-OXOACYL-ACP-SY...\n",
       "15    RXN0-5055 // 2.3.1.180-RXN // MALONYL-COA-ACP-...\n",
       "16    ACP-S-ACETYLTRANSFER-RXN // 3-OXOACYL-ACP-SYNT...\n",
       "17    MALONYL-ACPDECARBOX-RXN // 3-OXOACYL-ACP-SYNTH...\n",
       "18    RXN-9558 // RXN-9557 // RXN-9556 // 2.3.1.179-...\n",
       "19    RXN-9558 // RXN-9557 // RXN-9556 // 2.3.1.179-...\n",
       "20    RXN-9550 // RXN-10654 // RXN-10655 // RXN-1065...\n",
       "21    RXN-9655 // 5.3.3.14-RXN // RXN0-2141 // RXN0-...\n",
       "22    RXN-9663 // 4.2.1.61-RXN // RXN-9540 // RXN-95...\n",
       "23                                         2.1.1.79-RXN\n",
       "Name: Reactions of pathway, dtype: object"
      ]
     },
     "execution_count": 7,
     "metadata": {},
     "output_type": "execute_result"
    }
   ],
   "source": [
    "df[\"Reactions of pathway\"]"
   ]
  },
  {
   "cell_type": "code",
   "execution_count": 14,
   "metadata": {},
   "outputs": [],
   "source": [
    "rxn_ids = []"
   ]
  },
  {
   "cell_type": "code",
   "execution_count": 15,
   "metadata": {},
   "outputs": [],
   "source": [
    "for row in df[\"Reactions of pathway\"]:\n",
    "    rxnlist = row.split(\" // \")\n",
    "    rxn_ids = rxn_ids + rxnlist\n",
    "    #rxn_ids.append(rxnlist)"
   ]
  },
  {
   "cell_type": "code",
   "execution_count": 26,
   "metadata": {},
   "outputs": [
    {
     "data": {
      "text/plain": [
       "101"
      ]
     },
     "execution_count": 26,
     "metadata": {},
     "output_type": "execute_result"
    }
   ],
   "source": [
    "len(set(rxn_ids))"
   ]
  },
  {
   "cell_type": "code",
   "execution_count": 21,
   "metadata": {},
   "outputs": [],
   "source": [
    "rhea = pd.read_csv(\"ftp://ftp.expasy.org/databases/rhea/tsv/rhea2ecocyc.tsv\", sep=\"\\t\")"
   ]
  },
  {
   "cell_type": "code",
   "execution_count": 29,
   "metadata": {},
   "outputs": [
    {
     "data": {
      "text/plain": [
       "51"
      ]
     },
     "execution_count": 29,
     "metadata": {},
     "output_type": "execute_result"
    }
   ],
   "source": [
    "len(rhea[rhea[\"ID\"].isin(rxn_ids)][\"ID\"].unique())"
   ]
  },
  {
   "cell_type": "code",
   "execution_count": 34,
   "metadata": {},
   "outputs": [
    {
     "data": {
      "text/html": [
       "<div>\n",
       "<style scoped>\n",
       "    .dataframe tbody tr th:only-of-type {\n",
       "        vertical-align: middle;\n",
       "    }\n",
       "\n",
       "    .dataframe tbody tr th {\n",
       "        vertical-align: top;\n",
       "    }\n",
       "\n",
       "    .dataframe thead th {\n",
       "        text-align: right;\n",
       "    }\n",
       "</style>\n",
       "<table border=\"1\" class=\"dataframe\">\n",
       "  <thead>\n",
       "    <tr style=\"text-align: right;\">\n",
       "      <th></th>\n",
       "      <th>RHEA_ID</th>\n",
       "      <th>DIRECTION</th>\n",
       "      <th>MASTER_ID</th>\n",
       "      <th>ID</th>\n",
       "    </tr>\n",
       "  </thead>\n",
       "  <tbody>\n",
       "    <tr>\n",
       "      <th>56</th>\n",
       "      <td>11094</td>\n",
       "      <td>RL</td>\n",
       "      <td>11092</td>\n",
       "      <td>GLYC3PDEHYDROGBIOSYN-RXN</td>\n",
       "    </tr>\n",
       "    <tr>\n",
       "      <th>57</th>\n",
       "      <td>11098</td>\n",
       "      <td>RL</td>\n",
       "      <td>11096</td>\n",
       "      <td>GLYC3PDEHYDROGBIOSYN-RXN</td>\n",
       "    </tr>\n",
       "    <tr>\n",
       "      <th>77</th>\n",
       "      <td>11501</td>\n",
       "      <td>LR</td>\n",
       "      <td>11500</td>\n",
       "      <td>KDO-8PPHOSPHAT-RXN</td>\n",
       "    </tr>\n",
       "    <tr>\n",
       "      <th>89</th>\n",
       "      <td>11757</td>\n",
       "      <td>LR</td>\n",
       "      <td>11756</td>\n",
       "      <td>BIOTINLIG-RXN</td>\n",
       "    </tr>\n",
       "    <tr>\n",
       "      <th>100</th>\n",
       "      <td>11989</td>\n",
       "      <td>LR</td>\n",
       "      <td>11988</td>\n",
       "      <td>2.1.1.79-RXN</td>\n",
       "    </tr>\n",
       "  </tbody>\n",
       "</table>\n",
       "</div>"
      ],
      "text/plain": [
       "     RHEA_ID DIRECTION  MASTER_ID                        ID\n",
       "56     11094        RL      11092  GLYC3PDEHYDROGBIOSYN-RXN\n",
       "57     11098        RL      11096  GLYC3PDEHYDROGBIOSYN-RXN\n",
       "77     11501        LR      11500        KDO-8PPHOSPHAT-RXN\n",
       "89     11757        LR      11756             BIOTINLIG-RXN\n",
       "100    11989        LR      11988              2.1.1.79-RXN"
      ]
     },
     "execution_count": 34,
     "metadata": {},
     "output_type": "execute_result"
    }
   ],
   "source": [
    "rhea[rhea[\"ID\"].isin(rxn_ids)].head()"
   ]
  },
  {
   "cell_type": "code",
   "execution_count": 32,
   "metadata": {},
   "outputs": [],
   "source": [
    "rhea2kegg = pd.read_csv(\"ftp://ftp.expasy.org/databases/rhea/tsv/rhea2kegg_reaction.tsv\", sep=\"\\t\")"
   ]
  },
  {
   "cell_type": "code",
   "execution_count": 36,
   "metadata": {},
   "outputs": [
    {
     "data": {
      "text/html": [
       "<div>\n",
       "<style scoped>\n",
       "    .dataframe tbody tr th:only-of-type {\n",
       "        vertical-align: middle;\n",
       "    }\n",
       "\n",
       "    .dataframe tbody tr th {\n",
       "        vertical-align: top;\n",
       "    }\n",
       "\n",
       "    .dataframe thead th {\n",
       "        text-align: right;\n",
       "    }\n",
       "</style>\n",
       "<table border=\"1\" class=\"dataframe\">\n",
       "  <thead>\n",
       "    <tr style=\"text-align: right;\">\n",
       "      <th></th>\n",
       "      <th>RHEA_ID</th>\n",
       "      <th>DIRECTION</th>\n",
       "      <th>MASTER_ID</th>\n",
       "      <th>ID</th>\n",
       "    </tr>\n",
       "  </thead>\n",
       "  <tbody>\n",
       "    <tr>\n",
       "      <th>599</th>\n",
       "      <td>12596</td>\n",
       "      <td>BI</td>\n",
       "      <td>12593</td>\n",
       "      <td>R01801</td>\n",
       "    </tr>\n",
       "    <tr>\n",
       "      <th>1608</th>\n",
       "      <td>16916</td>\n",
       "      <td>BI</td>\n",
       "      <td>16913</td>\n",
       "      <td>R01800</td>\n",
       "    </tr>\n",
       "    <tr>\n",
       "      <th>3029</th>\n",
       "      <td>23107</td>\n",
       "      <td>BI</td>\n",
       "      <td>23104</td>\n",
       "      <td>R01530</td>\n",
       "    </tr>\n",
       "    <tr>\n",
       "      <th>3139</th>\n",
       "      <td>23571</td>\n",
       "      <td>BI</td>\n",
       "      <td>23568</td>\n",
       "      <td>R07639</td>\n",
       "    </tr>\n",
       "    <tr>\n",
       "      <th>5215</th>\n",
       "      <td>41791</td>\n",
       "      <td>BI</td>\n",
       "      <td>41788</td>\n",
       "      <td>R01624</td>\n",
       "    </tr>\n",
       "    <tr>\n",
       "      <th>5216</th>\n",
       "      <td>41795</td>\n",
       "      <td>BI</td>\n",
       "      <td>41792</td>\n",
       "      <td>R01626</td>\n",
       "    </tr>\n",
       "  </tbody>\n",
       "</table>\n",
       "</div>"
      ],
      "text/plain": [
       "      RHEA_ID DIRECTION  MASTER_ID      ID\n",
       "599     12596        BI      12593  R01801\n",
       "1608    16916        BI      16913  R01800\n",
       "3029    23107        BI      23104  R01530\n",
       "3139    23571        BI      23568  R07639\n",
       "5215    41791        BI      41788  R01624\n",
       "5216    41795        BI      41792  R01626"
      ]
     },
     "execution_count": 36,
     "metadata": {},
     "output_type": "execute_result"
    }
   ],
   "source": [
    "rhea2kegg[rhea2kegg[\"RHEA_ID\"].isin(rhea[rhea[\"ID\"].isin(rxn_ids)][\"RHEA_ID\"])]"
   ]
  },
  {
   "cell_type": "code",
   "execution_count": 42,
   "metadata": {},
   "outputs": [
    {
     "data": {
      "text/plain": [
       "array([11095, 11099, 11503, 11759, 11991, 12083, 12596, 13100, 13504,\n",
       "       13928, 14056, 15328, 16232, 16916, 17400, 17820, 19712, 20703,\n",
       "       20831, 22567, 22671, 23107, 23451, 23571, 25212, 25216, 28065,\n",
       "       28069, 28441, 28445, 31454, 33754, 41791, 41795, 42299, 42303,\n",
       "       44015, 54731], dtype=int64)"
      ]
     },
     "execution_count": 42,
     "metadata": {},
     "output_type": "execute_result"
    }
   ],
   "source": [
    "rhea2kegg[rhea2kegg[\"MASTER_ID\"].isin(rhea[rhea[\"ID\"].isin(rxn_ids)][\"MASTER_ID\"])][\"RHEA_ID\"].unique()"
   ]
  },
  {
   "cell_type": "code",
   "execution_count": null,
   "metadata": {},
   "outputs": [],
   "source": []
  }
 ],
 "metadata": {
  "kernelspec": {
   "display_name": "Python 3",
   "language": "python",
   "name": "python3"
  },
  "language_info": {
   "codemirror_mode": {
    "name": "ipython",
    "version": 3
   },
   "file_extension": ".py",
   "mimetype": "text/x-python",
   "name": "python",
   "nbconvert_exporter": "python",
   "pygments_lexer": "ipython3",
   "version": "3.7.2"
  }
 },
 "nbformat": 4,
 "nbformat_minor": 2
}
