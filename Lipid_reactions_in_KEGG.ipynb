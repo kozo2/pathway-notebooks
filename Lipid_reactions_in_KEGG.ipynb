{
  "nbformat": 4,
  "nbformat_minor": 0,
  "metadata": {
    "colab": {
      "name": "Lipid reactions in KEGG",
      "version": "0.3.2",
      "provenance": [],
      "collapsed_sections": []
    },
    "kernelspec": {
      "name": "python3",
      "display_name": "Python 3"
    }
  },
  "cells": [
    {
      "metadata": {
        "id": "h8tW78XmlZ_Z",
        "colab_type": "code",
        "colab": {}
      },
      "cell_type": "code",
      "source": [
        "import pandas as pd"
      ],
      "execution_count": 0,
      "outputs": []
    },
    {
      "metadata": {
        "id": "So5qXFVbyBtE",
        "colab_type": "text"
      },
      "cell_type": "markdown",
      "source": [
        "# Importing Rhea"
      ]
    },
    {
      "metadata": {
        "id": "VQRWGG-bgKj5",
        "colab_type": "code",
        "colab": {}
      },
      "cell_type": "code",
      "source": [
        "rhea2xref = pd.read_csv(\"ftp://ftp.expasy.org/databases/rhea/tsv/rhea2xrefs.tsv\", sep=\"\\t\")"
      ],
      "execution_count": 0,
      "outputs": []
    },
    {
      "metadata": {
        "id": "Uu20zQCrg_W7",
        "colab_type": "code",
        "colab": {
          "base_uri": "https://localhost:8080/",
          "height": 204
        },
        "outputId": "722312b0-d6f8-41af-8180-bfb609afce96"
      },
      "cell_type": "code",
      "source": [
        "rhea2xref.head()"
      ],
      "execution_count": 3,
      "outputs": [
        {
          "output_type": "execute_result",
          "data": {
            "text/html": [
              "<div>\n",
              "<style scoped>\n",
              "    .dataframe tbody tr th:only-of-type {\n",
              "        vertical-align: middle;\n",
              "    }\n",
              "\n",
              "    .dataframe tbody tr th {\n",
              "        vertical-align: top;\n",
              "    }\n",
              "\n",
              "    .dataframe thead th {\n",
              "        text-align: right;\n",
              "    }\n",
              "</style>\n",
              "<table border=\"1\" class=\"dataframe\">\n",
              "  <thead>\n",
              "    <tr style=\"text-align: right;\">\n",
              "      <th></th>\n",
              "      <th>RHEA_ID</th>\n",
              "      <th>DIRECTION</th>\n",
              "      <th>MASTER_ID</th>\n",
              "      <th>ID</th>\n",
              "      <th>DB</th>\n",
              "    </tr>\n",
              "  </thead>\n",
              "  <tbody>\n",
              "    <tr>\n",
              "      <th>0</th>\n",
              "      <td>10000</td>\n",
              "      <td>UN</td>\n",
              "      <td>10000</td>\n",
              "      <td>3.5.1.50</td>\n",
              "      <td>EC</td>\n",
              "    </tr>\n",
              "    <tr>\n",
              "      <th>1</th>\n",
              "      <td>10003</td>\n",
              "      <td>BI</td>\n",
              "      <td>10000</td>\n",
              "      <td>R02938</td>\n",
              "      <td>KEGG_REACTION</td>\n",
              "    </tr>\n",
              "    <tr>\n",
              "      <th>2</th>\n",
              "      <td>10003</td>\n",
              "      <td>BI</td>\n",
              "      <td>10000</td>\n",
              "      <td>PENTANAMIDASE-RXN</td>\n",
              "      <td>METACYC</td>\n",
              "    </tr>\n",
              "    <tr>\n",
              "      <th>3</th>\n",
              "      <td>10004</td>\n",
              "      <td>UN</td>\n",
              "      <td>10004</td>\n",
              "      <td>5.99.1.1</td>\n",
              "      <td>EC</td>\n",
              "    </tr>\n",
              "    <tr>\n",
              "      <th>4</th>\n",
              "      <td>10007</td>\n",
              "      <td>BI</td>\n",
              "      <td>10004</td>\n",
              "      <td>R04010</td>\n",
              "      <td>KEGG_REACTION</td>\n",
              "    </tr>\n",
              "  </tbody>\n",
              "</table>\n",
              "</div>"
            ],
            "text/plain": [
              "   RHEA_ID DIRECTION  MASTER_ID                 ID             DB\n",
              "0    10000        UN      10000           3.5.1.50             EC\n",
              "1    10003        BI      10000             R02938  KEGG_REACTION\n",
              "2    10003        BI      10000  PENTANAMIDASE-RXN        METACYC\n",
              "3    10004        UN      10004           5.99.1.1             EC\n",
              "4    10007        BI      10004             R04010  KEGG_REACTION"
            ]
          },
          "metadata": {
            "tags": []
          },
          "execution_count": 3
        }
      ]
    },
    {
      "metadata": {
        "id": "sZCRAzn0gf6f",
        "colab_type": "code",
        "colab": {}
      },
      "cell_type": "code",
      "source": [
        "kegg2xref = rhea2xref[rhea2xref[\"DB\"] == \"KEGG_REACTION\"]"
      ],
      "execution_count": 0,
      "outputs": []
    },
    {
      "metadata": {
        "id": "S3FwokXxg8Ex",
        "colab_type": "code",
        "colab": {
          "base_uri": "https://localhost:8080/",
          "height": 204
        },
        "outputId": "2461a0bc-c237-49a5-c6f6-d3b80d8c1cb7"
      },
      "cell_type": "code",
      "source": [
        "kegg2xref.head()"
      ],
      "execution_count": 5,
      "outputs": [
        {
          "output_type": "execute_result",
          "data": {
            "text/html": [
              "<div>\n",
              "<style scoped>\n",
              "    .dataframe tbody tr th:only-of-type {\n",
              "        vertical-align: middle;\n",
              "    }\n",
              "\n",
              "    .dataframe tbody tr th {\n",
              "        vertical-align: top;\n",
              "    }\n",
              "\n",
              "    .dataframe thead th {\n",
              "        text-align: right;\n",
              "    }\n",
              "</style>\n",
              "<table border=\"1\" class=\"dataframe\">\n",
              "  <thead>\n",
              "    <tr style=\"text-align: right;\">\n",
              "      <th></th>\n",
              "      <th>RHEA_ID</th>\n",
              "      <th>DIRECTION</th>\n",
              "      <th>MASTER_ID</th>\n",
              "      <th>ID</th>\n",
              "      <th>DB</th>\n",
              "    </tr>\n",
              "  </thead>\n",
              "  <tbody>\n",
              "    <tr>\n",
              "      <th>1</th>\n",
              "      <td>10003</td>\n",
              "      <td>BI</td>\n",
              "      <td>10000</td>\n",
              "      <td>R02938</td>\n",
              "      <td>KEGG_REACTION</td>\n",
              "    </tr>\n",
              "    <tr>\n",
              "      <th>4</th>\n",
              "      <td>10007</td>\n",
              "      <td>BI</td>\n",
              "      <td>10004</td>\n",
              "      <td>R04010</td>\n",
              "      <td>KEGG_REACTION</td>\n",
              "    </tr>\n",
              "    <tr>\n",
              "      <th>7</th>\n",
              "      <td>10011</td>\n",
              "      <td>BI</td>\n",
              "      <td>10008</td>\n",
              "      <td>R07180</td>\n",
              "      <td>KEGG_REACTION</td>\n",
              "    </tr>\n",
              "    <tr>\n",
              "      <th>11</th>\n",
              "      <td>10015</td>\n",
              "      <td>BI</td>\n",
              "      <td>10012</td>\n",
              "      <td>R07170</td>\n",
              "      <td>KEGG_REACTION</td>\n",
              "    </tr>\n",
              "    <tr>\n",
              "      <th>14</th>\n",
              "      <td>10019</td>\n",
              "      <td>BI</td>\n",
              "      <td>10016</td>\n",
              "      <td>R02381</td>\n",
              "      <td>KEGG_REACTION</td>\n",
              "    </tr>\n",
              "  </tbody>\n",
              "</table>\n",
              "</div>"
            ],
            "text/plain": [
              "    RHEA_ID DIRECTION  MASTER_ID      ID             DB\n",
              "1     10003        BI      10000  R02938  KEGG_REACTION\n",
              "4     10007        BI      10004  R04010  KEGG_REACTION\n",
              "7     10011        BI      10008  R07180  KEGG_REACTION\n",
              "11    10015        BI      10012  R07170  KEGG_REACTION\n",
              "14    10019        BI      10016  R02381  KEGG_REACTION"
            ]
          },
          "metadata": {
            "tags": []
          },
          "execution_count": 5
        }
      ]
    },
    {
      "metadata": {
        "id": "5HUsplNbhcZd",
        "colab_type": "code",
        "colab": {}
      },
      "cell_type": "code",
      "source": [
        "ecocyc2xref = rhea2xref[rhea2xref[\"DB\"] == \"ECOCYC\"]"
      ],
      "execution_count": 0,
      "outputs": []
    },
    {
      "metadata": {
        "id": "NXh3Nn9-hj8r",
        "colab_type": "code",
        "colab": {
          "base_uri": "https://localhost:8080/",
          "height": 204
        },
        "outputId": "f11d47a9-87de-4b49-8c38-7cb192cdd998"
      },
      "cell_type": "code",
      "source": [
        "ecocyc2xref.head()"
      ],
      "execution_count": 7,
      "outputs": [
        {
          "output_type": "execute_result",
          "data": {
            "text/html": [
              "<div>\n",
              "<style scoped>\n",
              "    .dataframe tbody tr th:only-of-type {\n",
              "        vertical-align: middle;\n",
              "    }\n",
              "\n",
              "    .dataframe tbody tr th {\n",
              "        vertical-align: top;\n",
              "    }\n",
              "\n",
              "    .dataframe thead th {\n",
              "        text-align: right;\n",
              "    }\n",
              "</style>\n",
              "<table border=\"1\" class=\"dataframe\">\n",
              "  <thead>\n",
              "    <tr style=\"text-align: right;\">\n",
              "      <th></th>\n",
              "      <th>RHEA_ID</th>\n",
              "      <th>DIRECTION</th>\n",
              "      <th>MASTER_ID</th>\n",
              "      <th>ID</th>\n",
              "      <th>DB</th>\n",
              "    </tr>\n",
              "  </thead>\n",
              "  <tbody>\n",
              "    <tr>\n",
              "      <th>32</th>\n",
              "      <td>10041</td>\n",
              "      <td>LR</td>\n",
              "      <td>10040</td>\n",
              "      <td>325-BISPHOSPHATE-NUCLEOTIDASE-RXN</td>\n",
              "      <td>ECOCYC</td>\n",
              "    </tr>\n",
              "    <tr>\n",
              "      <th>73</th>\n",
              "      <td>10093</td>\n",
              "      <td>LR</td>\n",
              "      <td>10092</td>\n",
              "      <td>DEOXYNUCLEOTIDE-3-PHOSPHATASE-RXN</td>\n",
              "      <td>ECOCYC</td>\n",
              "    </tr>\n",
              "    <tr>\n",
              "      <th>93</th>\n",
              "      <td>10117</td>\n",
              "      <td>LR</td>\n",
              "      <td>10116</td>\n",
              "      <td>RXN-9952</td>\n",
              "      <td>ECOCYC</td>\n",
              "    </tr>\n",
              "    <tr>\n",
              "      <th>99</th>\n",
              "      <td>10121</td>\n",
              "      <td>LR</td>\n",
              "      <td>10120</td>\n",
              "      <td>AMINOCYL-TRNA-HYDROLASE-RXN</td>\n",
              "      <td>ECOCYC</td>\n",
              "    </tr>\n",
              "    <tr>\n",
              "      <th>113</th>\n",
              "      <td>10137</td>\n",
              "      <td>LR</td>\n",
              "      <td>10136</td>\n",
              "      <td>GLYOCARBOLIG-RXN</td>\n",
              "      <td>ECOCYC</td>\n",
              "    </tr>\n",
              "  </tbody>\n",
              "</table>\n",
              "</div>"
            ],
            "text/plain": [
              "     RHEA_ID DIRECTION  MASTER_ID                                 ID      DB\n",
              "32     10041        LR      10040  325-BISPHOSPHATE-NUCLEOTIDASE-RXN  ECOCYC\n",
              "73     10093        LR      10092  DEOXYNUCLEOTIDE-3-PHOSPHATASE-RXN  ECOCYC\n",
              "93     10117        LR      10116                           RXN-9952  ECOCYC\n",
              "99     10121        LR      10120        AMINOCYL-TRNA-HYDROLASE-RXN  ECOCYC\n",
              "113    10137        LR      10136                   GLYOCARBOLIG-RXN  ECOCYC"
            ]
          },
          "metadata": {
            "tags": []
          },
          "execution_count": 7
        }
      ]
    },
    {
      "metadata": {
        "id": "oT6PrJb9jeY9",
        "colab_type": "text"
      },
      "cell_type": "markdown",
      "source": [
        "# How many lipid reactions in kegg2xref?"
      ]
    },
    {
      "metadata": {
        "id": "4OSSRDVKoexq",
        "colab_type": "code",
        "colab": {}
      },
      "cell_type": "code",
      "source": [
        "keggtext = \"00061Fatty acid biosynthesis00062Fatty acid elongation00071Fatty acid degradation00072Synthesis and degradation of ketone bodies00073Cutin, suberine and wax biosynthesis00100Steroid biosynthesis00120Primary bile acid biosynthesis00121Secondary bile acid biosynthesis00140Steroid hormone biosynthesis00561Glycerolipid metabolism00564Glycerophospholipid metabolism00565Ether lipid metabolism00600Sphingolipid metabolism00590Arachidonic acid metabolism00591Linoleic acid metabolism00592alpha-Linolenic acid metabolism01040Biosynthesis of unsaturated fatty acids\""
      ],
      "execution_count": 0,
      "outputs": []
    },
    {
      "metadata": {
        "id": "Qr1OB3tIqBlb",
        "colab_type": "code",
        "colab": {}
      },
      "cell_type": "code",
      "source": [
        "import re\n",
        "pathwayIds = re.findall(r\"[0-9]{5}\", keggtext)\n"
      ],
      "execution_count": 0,
      "outputs": []
    },
    {
      "metadata": {
        "id": "-KMH-wncqttq",
        "colab_type": "code",
        "outputId": "6edc6cad-6a46-4a78-e0e4-6518e3dab85f",
        "colab": {
          "base_uri": "https://localhost:8080/",
          "height": 306
        }
      },
      "cell_type": "code",
      "source": [
        "pathwayIds"
      ],
      "execution_count": 10,
      "outputs": [
        {
          "output_type": "execute_result",
          "data": {
            "text/plain": [
              "['00061',\n",
              " '00062',\n",
              " '00071',\n",
              " '00072',\n",
              " '00073',\n",
              " '00100',\n",
              " '00120',\n",
              " '00121',\n",
              " '00140',\n",
              " '00561',\n",
              " '00564',\n",
              " '00565',\n",
              " '00600',\n",
              " '00590',\n",
              " '00591',\n",
              " '00592',\n",
              " '01040']"
            ]
          },
          "metadata": {
            "tags": []
          },
          "execution_count": 10
        }
      ]
    },
    {
      "metadata": {
        "id": "JyEmzGp6tWX1",
        "colab_type": "code",
        "colab": {}
      },
      "cell_type": "code",
      "source": [
        "lipidmaps = pd.DataFrame()"
      ],
      "execution_count": 0,
      "outputs": []
    },
    {
      "metadata": {
        "id": "NwHDSaDtuv-F",
        "colab_type": "code",
        "outputId": "dfa35c59-c4b0-40be-b061-01a008787ad7",
        "colab": {
          "base_uri": "https://localhost:8080/",
          "height": 34
        }
      },
      "cell_type": "code",
      "source": [
        "for id in pathwayIds:\n",
        "  try:\n",
        "    lipidmaps = pd.concat([lipidmaps, pd.read_csv(\"http://rest.kegg.jp/link/rn/map\" + id, sep=\"\\t\", header=None)])\n",
        "  except pd.errors.EmptyDataError:\n",
        "    print(\"No reaction ID in map\" + id)"
      ],
      "execution_count": 12,
      "outputs": [
        {
          "output_type": "stream",
          "text": [
            "No reaction ID in map00121\n"
          ],
          "name": "stdout"
        }
      ]
    },
    {
      "metadata": {
        "id": "45eXlyn_vIzx",
        "colab_type": "code",
        "outputId": "3d5f280e-5c49-40db-cbfa-be3257b5a83f",
        "colab": {
          "base_uri": "https://localhost:8080/",
          "height": 204
        }
      },
      "cell_type": "code",
      "source": [
        "lipidmaps.head()"
      ],
      "execution_count": 13,
      "outputs": [
        {
          "output_type": "execute_result",
          "data": {
            "text/html": [
              "<div>\n",
              "<style scoped>\n",
              "    .dataframe tbody tr th:only-of-type {\n",
              "        vertical-align: middle;\n",
              "    }\n",
              "\n",
              "    .dataframe tbody tr th {\n",
              "        vertical-align: top;\n",
              "    }\n",
              "\n",
              "    .dataframe thead th {\n",
              "        text-align: right;\n",
              "    }\n",
              "</style>\n",
              "<table border=\"1\" class=\"dataframe\">\n",
              "  <thead>\n",
              "    <tr style=\"text-align: right;\">\n",
              "      <th></th>\n",
              "      <th>0</th>\n",
              "      <th>1</th>\n",
              "    </tr>\n",
              "  </thead>\n",
              "  <tbody>\n",
              "    <tr>\n",
              "      <th>0</th>\n",
              "      <td>path:map00061</td>\n",
              "      <td>rn:R00742</td>\n",
              "    </tr>\n",
              "    <tr>\n",
              "      <th>1</th>\n",
              "      <td>path:map00061</td>\n",
              "      <td>rn:R01280</td>\n",
              "    </tr>\n",
              "    <tr>\n",
              "      <th>2</th>\n",
              "      <td>path:map00061</td>\n",
              "      <td>rn:R01624</td>\n",
              "    </tr>\n",
              "    <tr>\n",
              "      <th>3</th>\n",
              "      <td>path:map00061</td>\n",
              "      <td>rn:R01626</td>\n",
              "    </tr>\n",
              "    <tr>\n",
              "      <th>4</th>\n",
              "      <td>path:map00061</td>\n",
              "      <td>rn:R01706</td>\n",
              "    </tr>\n",
              "  </tbody>\n",
              "</table>\n",
              "</div>"
            ],
            "text/plain": [
              "               0          1\n",
              "0  path:map00061  rn:R00742\n",
              "1  path:map00061  rn:R01280\n",
              "2  path:map00061  rn:R01624\n",
              "3  path:map00061  rn:R01626\n",
              "4  path:map00061  rn:R01706"
            ]
          },
          "metadata": {
            "tags": []
          },
          "execution_count": 13
        }
      ]
    },
    {
      "metadata": {
        "id": "Cx_yZMaQmAhU",
        "colab_type": "code",
        "colab": {}
      },
      "cell_type": "code",
      "source": [
        "lipidRids = lipidmaps[1].str.replace(\"rn:\", \"\")"
      ],
      "execution_count": 0,
      "outputs": []
    },
    {
      "metadata": {
        "id": "Qbk839YSm0Fn",
        "colab_type": "code",
        "colab": {}
      },
      "cell_type": "code",
      "source": [
        "lipidkegg2xref = kegg2xref[kegg2xref[\"ID\"].isin(lipidRids)]"
      ],
      "execution_count": 0,
      "outputs": []
    },
    {
      "metadata": {
        "id": "UiMG5URFmz_u",
        "colab_type": "code",
        "colab": {
          "base_uri": "https://localhost:8080/",
          "height": 51
        },
        "outputId": "57fbf055-a54d-4a30-8715-9009fecde75b"
      },
      "cell_type": "code",
      "source": [
        "print(kegg2xref[\"ID\"].unique().shape)\n",
        "print(lipidkegg2xref[\"ID\"].unique().shape)"
      ],
      "execution_count": 16,
      "outputs": [
        {
          "output_type": "stream",
          "text": [
            "(6157,)\n",
            "(351,)\n"
          ],
          "name": "stdout"
        }
      ]
    },
    {
      "metadata": {
        "id": "spTA9IOyERTv",
        "colab_type": "text"
      },
      "cell_type": "markdown",
      "source": [
        "# KEGG lipid reactions in Rhea have EcoCyc reaction IDs?"
      ]
    },
    {
      "metadata": {
        "id": "RX_1FCPjspUg",
        "colab_type": "code",
        "colab": {}
      },
      "cell_type": "code",
      "source": [
        "lipidkegg2xref = rhea2xref[rhea2xref[\"RHEA_ID\"].isin(lipidkegg2xref[\"RHEA_ID\"])]"
      ],
      "execution_count": 0,
      "outputs": []
    },
    {
      "metadata": {
        "id": "e5jIhtOb0XqW",
        "colab_type": "code",
        "colab": {
          "base_uri": "https://localhost:8080/",
          "height": 204
        },
        "outputId": "e945a16e-b1cb-49fc-c04e-5b64cedb5c1d"
      },
      "cell_type": "code",
      "source": [
        "lipidkegg2xref.head()"
      ],
      "execution_count": 36,
      "outputs": [
        {
          "output_type": "execute_result",
          "data": {
            "text/html": [
              "<div>\n",
              "<style scoped>\n",
              "    .dataframe tbody tr th:only-of-type {\n",
              "        vertical-align: middle;\n",
              "    }\n",
              "\n",
              "    .dataframe tbody tr th {\n",
              "        vertical-align: top;\n",
              "    }\n",
              "\n",
              "    .dataframe thead th {\n",
              "        text-align: right;\n",
              "    }\n",
              "</style>\n",
              "<table border=\"1\" class=\"dataframe\">\n",
              "  <thead>\n",
              "    <tr style=\"text-align: right;\">\n",
              "      <th></th>\n",
              "      <th>RHEA_ID</th>\n",
              "      <th>DIRECTION</th>\n",
              "      <th>MASTER_ID</th>\n",
              "      <th>ID</th>\n",
              "      <th>DB</th>\n",
              "    </tr>\n",
              "  </thead>\n",
              "  <tbody>\n",
              "    <tr>\n",
              "      <th>161</th>\n",
              "      <td>10191</td>\n",
              "      <td>BI</td>\n",
              "      <td>10188</td>\n",
              "      <td>R01978</td>\n",
              "      <td>KEGG_REACTION</td>\n",
              "    </tr>\n",
              "    <tr>\n",
              "      <th>162</th>\n",
              "      <td>10191</td>\n",
              "      <td>BI</td>\n",
              "      <td>10188</td>\n",
              "      <td>HYDROXYMETHYLGLUTARYL-COA-SYNTHASE-RXN</td>\n",
              "      <td>METACYC</td>\n",
              "    </tr>\n",
              "    <tr>\n",
              "      <th>231</th>\n",
              "      <td>10275</td>\n",
              "      <td>BI</td>\n",
              "      <td>10272</td>\n",
              "      <td>R02240</td>\n",
              "      <td>KEGG_REACTION</td>\n",
              "    </tr>\n",
              "    <tr>\n",
              "      <th>232</th>\n",
              "      <td>10275</td>\n",
              "      <td>BI</td>\n",
              "      <td>10272</td>\n",
              "      <td>DIACYLGLYKIN-RXN</td>\n",
              "      <td>ECOCYC</td>\n",
              "    </tr>\n",
              "    <tr>\n",
              "      <th>233</th>\n",
              "      <td>10275</td>\n",
              "      <td>BI</td>\n",
              "      <td>10272</td>\n",
              "      <td>DIACYLGLYKIN-RXN</td>\n",
              "      <td>METACYC</td>\n",
              "    </tr>\n",
              "  </tbody>\n",
              "</table>\n",
              "</div>"
            ],
            "text/plain": [
              "     RHEA_ID DIRECTION  MASTER_ID                                      ID  \\\n",
              "161    10191        BI      10188                                  R01978   \n",
              "162    10191        BI      10188  HYDROXYMETHYLGLUTARYL-COA-SYNTHASE-RXN   \n",
              "231    10275        BI      10272                                  R02240   \n",
              "232    10275        BI      10272                        DIACYLGLYKIN-RXN   \n",
              "233    10275        BI      10272                        DIACYLGLYKIN-RXN   \n",
              "\n",
              "                DB  \n",
              "161  KEGG_REACTION  \n",
              "162        METACYC  \n",
              "231  KEGG_REACTION  \n",
              "232         ECOCYC  \n",
              "233        METACYC  "
            ]
          },
          "metadata": {
            "tags": []
          },
          "execution_count": 36
        }
      ]
    },
    {
      "metadata": {
        "id": "essf5jDm3KjG",
        "colab_type": "code",
        "colab": {
          "base_uri": "https://localhost:8080/",
          "height": 68
        },
        "outputId": "175c0021-6607-46af-ce3a-2761fdd18a27"
      },
      "cell_type": "code",
      "source": [
        "kegg = lipidkegg2xref[\"DB\"] == \"KEGG_REACTION\"\n",
        "kegg.value_counts()"
      ],
      "execution_count": 41,
      "outputs": [
        {
          "output_type": "execute_result",
          "data": {
            "text/plain": [
              "True     362\n",
              "False    108\n",
              "Name: DB, dtype: int64"
            ]
          },
          "metadata": {
            "tags": []
          },
          "execution_count": 41
        }
      ]
    },
    {
      "metadata": {
        "id": "S1lRBS_z0XVj",
        "colab_type": "code",
        "colab": {
          "base_uri": "https://localhost:8080/",
          "height": 68
        },
        "outputId": "c24c02b7-f925-4a59-8fc0-f4a9d8b6b724"
      },
      "cell_type": "code",
      "source": [
        "metacyc = lipidkegg2xref[\"DB\"] == \"METACYC\"\n",
        "metacyc.value_counts()"
      ],
      "execution_count": 38,
      "outputs": [
        {
          "output_type": "execute_result",
          "data": {
            "text/plain": [
              "False    373\n",
              "True      97\n",
              "Name: DB, dtype: int64"
            ]
          },
          "metadata": {
            "tags": []
          },
          "execution_count": 38
        }
      ]
    },
    {
      "metadata": {
        "id": "e6yPw3uj1eZW",
        "colab_type": "code",
        "colab": {
          "base_uri": "https://localhost:8080/",
          "height": 68
        },
        "outputId": "0701f571-600a-4d0c-d038-bdca421ca273"
      },
      "cell_type": "code",
      "source": [
        "ecocyc = lipidkegg2xref[\"DB\"] == \"ECOCYC\"\n",
        "ecocyc.value_counts()"
      ],
      "execution_count": 39,
      "outputs": [
        {
          "output_type": "execute_result",
          "data": {
            "text/plain": [
              "False    459\n",
              "True      11\n",
              "Name: DB, dtype: int64"
            ]
          },
          "metadata": {
            "tags": []
          },
          "execution_count": 39
        }
      ]
    }
  ]
}