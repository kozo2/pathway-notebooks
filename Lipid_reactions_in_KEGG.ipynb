{
  "nbformat": 4,
  "nbformat_minor": 0,
  "metadata": {
    "colab": {
      "name": "Lipid reactions in KEGG",
      "version": "0.3.2",
      "provenance": [],
      "collapsed_sections": []
    },
    "kernelspec": {
      "name": "python3",
      "display_name": "Python 3"
    }
  },
  "cells": [
    {
      "metadata": {
        "id": "h8tW78XmlZ_Z",
        "colab_type": "code",
        "colab": {}
      },
      "cell_type": "code",
      "source": [
        "import pandas as pd"
      ],
      "execution_count": 0,
      "outputs": []
    },
    {
      "metadata": {
        "id": "So5qXFVbyBtE",
        "colab_type": "text"
      },
      "cell_type": "markdown",
      "source": [
        "# import Rhea"
      ]
    },
    {
      "metadata": {
        "id": "E5vrwC1ynsPm",
        "colab_type": "code",
        "colab": {}
      },
      "cell_type": "code",
      "source": [
        "rhea2kegg = pd.read_csv(\"ftp://ftp.expasy.org/databases/rhea/tsv/rhea2kegg_reaction.tsv\", sep=\"\\t\")"
      ],
      "execution_count": 0,
      "outputs": []
    },
    {
      "metadata": {
        "id": "zPirCExEn0v6",
        "colab_type": "code",
        "colab": {
          "base_uri": "https://localhost:8080/",
          "height": 204
        },
        "outputId": "2a37974c-bcb6-4329-b863-420b038ef9f5"
      },
      "cell_type": "code",
      "source": [
        "rhea2kegg.head()"
      ],
      "execution_count": 67,
      "outputs": [
        {
          "output_type": "execute_result",
          "data": {
            "text/html": [
              "<div>\n",
              "<style scoped>\n",
              "    .dataframe tbody tr th:only-of-type {\n",
              "        vertical-align: middle;\n",
              "    }\n",
              "\n",
              "    .dataframe tbody tr th {\n",
              "        vertical-align: top;\n",
              "    }\n",
              "\n",
              "    .dataframe thead th {\n",
              "        text-align: right;\n",
              "    }\n",
              "</style>\n",
              "<table border=\"1\" class=\"dataframe\">\n",
              "  <thead>\n",
              "    <tr style=\"text-align: right;\">\n",
              "      <th></th>\n",
              "      <th>RHEA_ID</th>\n",
              "      <th>DIRECTION</th>\n",
              "      <th>MASTER_ID</th>\n",
              "      <th>ID</th>\n",
              "    </tr>\n",
              "  </thead>\n",
              "  <tbody>\n",
              "    <tr>\n",
              "      <th>0</th>\n",
              "      <td>10003</td>\n",
              "      <td>BI</td>\n",
              "      <td>10000</td>\n",
              "      <td>R02938</td>\n",
              "    </tr>\n",
              "    <tr>\n",
              "      <th>1</th>\n",
              "      <td>10007</td>\n",
              "      <td>BI</td>\n",
              "      <td>10004</td>\n",
              "      <td>R04010</td>\n",
              "    </tr>\n",
              "    <tr>\n",
              "      <th>2</th>\n",
              "      <td>10011</td>\n",
              "      <td>BI</td>\n",
              "      <td>10008</td>\n",
              "      <td>R07180</td>\n",
              "    </tr>\n",
              "    <tr>\n",
              "      <th>3</th>\n",
              "      <td>10015</td>\n",
              "      <td>BI</td>\n",
              "      <td>10012</td>\n",
              "      <td>R07170</td>\n",
              "    </tr>\n",
              "    <tr>\n",
              "      <th>4</th>\n",
              "      <td>10019</td>\n",
              "      <td>BI</td>\n",
              "      <td>10016</td>\n",
              "      <td>R02381</td>\n",
              "    </tr>\n",
              "  </tbody>\n",
              "</table>\n",
              "</div>"
            ],
            "text/plain": [
              "   RHEA_ID DIRECTION  MASTER_ID      ID\n",
              "0    10003        BI      10000  R02938\n",
              "1    10007        BI      10004  R04010\n",
              "2    10011        BI      10008  R07180\n",
              "3    10015        BI      10012  R07170\n",
              "4    10019        BI      10016  R02381"
            ]
          },
          "metadata": {
            "tags": []
          },
          "execution_count": 67
        }
      ]
    },
    {
      "metadata": {
        "id": "Pd9T-jfjpu6L",
        "colab_type": "text"
      },
      "cell_type": "markdown",
      "source": [
        "# Lipid metabolism reaction IDs in KEGG\n"
      ]
    },
    {
      "metadata": {
        "id": "4OSSRDVKoexq",
        "colab_type": "code",
        "colab": {}
      },
      "cell_type": "code",
      "source": [
        "keggtext = \"00061Fatty acid biosynthesis00062Fatty acid elongation00071Fatty acid degradation00072Synthesis and degradation of ketone bodies00073Cutin, suberine and wax biosynthesis00100Steroid biosynthesis00120Primary bile acid biosynthesis00121Secondary bile acid biosynthesis00140Steroid hormone biosynthesis00561Glycerolipid metabolism00564Glycerophospholipid metabolism00565Ether lipid metabolism00600Sphingolipid metabolism00590Arachidonic acid metabolism00591Linoleic acid metabolism00592alpha-Linolenic acid metabolism01040Biosynthesis of unsaturated fatty acids\""
      ],
      "execution_count": 0,
      "outputs": []
    },
    {
      "metadata": {
        "id": "Qr1OB3tIqBlb",
        "colab_type": "code",
        "colab": {}
      },
      "cell_type": "code",
      "source": [
        "import re\n",
        "pathwayIds = re.findall(r\"[0-9]{5}\", keggtext)\n"
      ],
      "execution_count": 0,
      "outputs": []
    },
    {
      "metadata": {
        "id": "-KMH-wncqttq",
        "colab_type": "code",
        "colab": {
          "base_uri": "https://localhost:8080/",
          "height": 306
        },
        "outputId": "49123659-9c1d-4a9f-f1bf-97a1d7d13f1b"
      },
      "cell_type": "code",
      "source": [
        "pathwayIds"
      ],
      "execution_count": 10,
      "outputs": [
        {
          "output_type": "execute_result",
          "data": {
            "text/plain": [
              "['00061',\n",
              " '00062',\n",
              " '00071',\n",
              " '00072',\n",
              " '00073',\n",
              " '00100',\n",
              " '00120',\n",
              " '00121',\n",
              " '00140',\n",
              " '00561',\n",
              " '00564',\n",
              " '00565',\n",
              " '00600',\n",
              " '00590',\n",
              " '00591',\n",
              " '00592',\n",
              " '01040']"
            ]
          },
          "metadata": {
            "tags": []
          },
          "execution_count": 10
        }
      ]
    },
    {
      "metadata": {
        "id": "JyEmzGp6tWX1",
        "colab_type": "code",
        "colab": {}
      },
      "cell_type": "code",
      "source": [
        "lipidmaps = pd.DataFrame()"
      ],
      "execution_count": 0,
      "outputs": []
    },
    {
      "metadata": {
        "id": "NwHDSaDtuv-F",
        "colab_type": "code",
        "colab": {
          "base_uri": "https://localhost:8080/",
          "height": 34
        },
        "outputId": "99332406-e7f0-4a9f-a61a-528b9b098f98"
      },
      "cell_type": "code",
      "source": [
        "for id in pathwayIds:\n",
        "  try:\n",
        "    lipidmaps = pd.concat([lipidmaps, pd.read_csv(\"http://rest.kegg.jp/link/rn/map\" + id, sep=\"\\t\", header=None)])\n",
        "  except pd.errors.EmptyDataError:\n",
        "    print(\"No reaction ID in map\" + id)"
      ],
      "execution_count": 71,
      "outputs": [
        {
          "output_type": "stream",
          "text": [
            "No reaction ID in map00121\n"
          ],
          "name": "stdout"
        }
      ]
    },
    {
      "metadata": {
        "id": "45eXlyn_vIzx",
        "colab_type": "code",
        "colab": {
          "base_uri": "https://localhost:8080/",
          "height": 204
        },
        "outputId": "bff597e4-9e5b-44e8-eb69-db6d7dddd243"
      },
      "cell_type": "code",
      "source": [
        "lipidmaps.head()"
      ],
      "execution_count": 72,
      "outputs": [
        {
          "output_type": "execute_result",
          "data": {
            "text/html": [
              "<div>\n",
              "<style scoped>\n",
              "    .dataframe tbody tr th:only-of-type {\n",
              "        vertical-align: middle;\n",
              "    }\n",
              "\n",
              "    .dataframe tbody tr th {\n",
              "        vertical-align: top;\n",
              "    }\n",
              "\n",
              "    .dataframe thead th {\n",
              "        text-align: right;\n",
              "    }\n",
              "</style>\n",
              "<table border=\"1\" class=\"dataframe\">\n",
              "  <thead>\n",
              "    <tr style=\"text-align: right;\">\n",
              "      <th></th>\n",
              "      <th>0</th>\n",
              "      <th>1</th>\n",
              "    </tr>\n",
              "  </thead>\n",
              "  <tbody>\n",
              "    <tr>\n",
              "      <th>0</th>\n",
              "      <td>path:map00061</td>\n",
              "      <td>rn:R00742</td>\n",
              "    </tr>\n",
              "    <tr>\n",
              "      <th>1</th>\n",
              "      <td>path:map00061</td>\n",
              "      <td>rn:R01280</td>\n",
              "    </tr>\n",
              "    <tr>\n",
              "      <th>2</th>\n",
              "      <td>path:map00061</td>\n",
              "      <td>rn:R01624</td>\n",
              "    </tr>\n",
              "    <tr>\n",
              "      <th>3</th>\n",
              "      <td>path:map00061</td>\n",
              "      <td>rn:R01626</td>\n",
              "    </tr>\n",
              "    <tr>\n",
              "      <th>4</th>\n",
              "      <td>path:map00061</td>\n",
              "      <td>rn:R01706</td>\n",
              "    </tr>\n",
              "  </tbody>\n",
              "</table>\n",
              "</div>"
            ],
            "text/plain": [
              "               0          1\n",
              "0  path:map00061  rn:R00742\n",
              "1  path:map00061  rn:R01280\n",
              "2  path:map00061  rn:R01624\n",
              "3  path:map00061  rn:R01626\n",
              "4  path:map00061  rn:R01706"
            ]
          },
          "metadata": {
            "tags": []
          },
          "execution_count": 72
        }
      ]
    },
    {
      "metadata": {
        "id": "ueawnL2-yRxU",
        "colab_type": "text"
      },
      "cell_type": "markdown",
      "source": [
        "# How many KEGG lipid reaction IDs in Rhea?\n",
        "\n",
        "---\n",
        "\n"
      ]
    },
    {
      "metadata": {
        "id": "-mv1bV5ExpxY",
        "colab_type": "code",
        "colab": {
          "base_uri": "https://localhost:8080/",
          "height": 34
        },
        "outputId": "f1039995-2c26-4d6a-a5e5-feada0b290e1"
      },
      "cell_type": "code",
      "source": [
        "lipidmaps[1].unique().shape"
      ],
      "execution_count": 73,
      "outputs": [
        {
          "output_type": "execute_result",
          "data": {
            "text/plain": [
              "(764,)"
            ]
          },
          "metadata": {
            "tags": []
          },
          "execution_count": 73
        }
      ]
    },
    {
      "metadata": {
        "id": "gXA8jYx3x1Xp",
        "colab_type": "code",
        "colab": {
          "base_uri": "https://localhost:8080/",
          "height": 34
        },
        "outputId": "a5979537-3aa0-4524-d53b-0abe37e8617d"
      },
      "cell_type": "code",
      "source": [
        "rhea2kegg.shape"
      ],
      "execution_count": 74,
      "outputs": [
        {
          "output_type": "execute_result",
          "data": {
            "text/plain": [
              "(6290, 4)"
            ]
          },
          "metadata": {
            "tags": []
          },
          "execution_count": 74
        }
      ]
    },
    {
      "metadata": {
        "id": "NGpyESj61dFI",
        "colab_type": "code",
        "colab": {
          "base_uri": "https://localhost:8080/",
          "height": 34
        },
        "outputId": "b0b5f406-c028-4b31-990d-627e971bea0a"
      },
      "cell_type": "code",
      "source": [
        "rhea2kegg[rhea2kegg[\"ID\"].isin(lipidmaps[1].str.replace(\"rn:\", \"\"))].shape"
      ],
      "execution_count": 75,
      "outputs": [
        {
          "output_type": "execute_result",
          "data": {
            "text/plain": [
              "(362, 4)"
            ]
          },
          "metadata": {
            "tags": []
          },
          "execution_count": 75
        }
      ]
    },
    {
      "metadata": {
        "id": "r9_RjCCs1i1I",
        "colab_type": "code",
        "colab": {
          "base_uri": "https://localhost:8080/",
          "height": 204
        },
        "outputId": "56e340d8-1c0e-4a7b-9814-d15df42fe793"
      },
      "cell_type": "code",
      "source": [
        "rhea2kegg[rhea2kegg[\"ID\"].isin(lipidmaps[1].str.replace(\"rn:\", \"\"))].head()"
      ],
      "execution_count": 76,
      "outputs": [
        {
          "output_type": "execute_result",
          "data": {
            "text/html": [
              "<div>\n",
              "<style scoped>\n",
              "    .dataframe tbody tr th:only-of-type {\n",
              "        vertical-align: middle;\n",
              "    }\n",
              "\n",
              "    .dataframe tbody tr th {\n",
              "        vertical-align: top;\n",
              "    }\n",
              "\n",
              "    .dataframe thead th {\n",
              "        text-align: right;\n",
              "    }\n",
              "</style>\n",
              "<table border=\"1\" class=\"dataframe\">\n",
              "  <thead>\n",
              "    <tr style=\"text-align: right;\">\n",
              "      <th></th>\n",
              "      <th>RHEA_ID</th>\n",
              "      <th>DIRECTION</th>\n",
              "      <th>MASTER_ID</th>\n",
              "      <th>ID</th>\n",
              "    </tr>\n",
              "  </thead>\n",
              "  <tbody>\n",
              "    <tr>\n",
              "      <th>45</th>\n",
              "      <td>10191</td>\n",
              "      <td>BI</td>\n",
              "      <td>10188</td>\n",
              "      <td>R01978</td>\n",
              "    </tr>\n",
              "    <tr>\n",
              "      <th>62</th>\n",
              "      <td>10275</td>\n",
              "      <td>BI</td>\n",
              "      <td>10272</td>\n",
              "      <td>R02240</td>\n",
              "    </tr>\n",
              "    <tr>\n",
              "      <th>70</th>\n",
              "      <td>10307</td>\n",
              "      <td>BI</td>\n",
              "      <td>10304</td>\n",
              "      <td>R04864</td>\n",
              "    </tr>\n",
              "    <tr>\n",
              "      <th>76</th>\n",
              "      <td>10335</td>\n",
              "      <td>BI</td>\n",
              "      <td>10332</td>\n",
              "      <td>R01319</td>\n",
              "    </tr>\n",
              "    <tr>\n",
              "      <th>79</th>\n",
              "      <td>10347</td>\n",
              "      <td>BI</td>\n",
              "      <td>10344</td>\n",
              "      <td>R03109</td>\n",
              "    </tr>\n",
              "  </tbody>\n",
              "</table>\n",
              "</div>"
            ],
            "text/plain": [
              "    RHEA_ID DIRECTION  MASTER_ID      ID\n",
              "45    10191        BI      10188  R01978\n",
              "62    10275        BI      10272  R02240\n",
              "70    10307        BI      10304  R04864\n",
              "76    10335        BI      10332  R01319\n",
              "79    10347        BI      10344  R03109"
            ]
          },
          "metadata": {
            "tags": []
          },
          "execution_count": 76
        }
      ]
    },
    {
      "metadata": {
        "id": "9cSaGg2i1xMA",
        "colab_type": "code",
        "colab": {}
      },
      "cell_type": "code",
      "source": [
        "lipidsInRhea2kegg = rhea2kegg[rhea2kegg[\"ID\"].isin(lipidmaps[1].str.replace(\"rn:\", \"\"))]"
      ],
      "execution_count": 0,
      "outputs": []
    },
    {
      "metadata": {
        "id": "d6X5G5GEBGT0",
        "colab_type": "code",
        "colab": {
          "base_uri": "https://localhost:8080/",
          "height": 204
        },
        "outputId": "292e1ebb-bf40-464e-8329-f0bfad4175a0"
      },
      "cell_type": "code",
      "source": [
        "lipidsInRhea2kegg.head()"
      ],
      "execution_count": 87,
      "outputs": [
        {
          "output_type": "execute_result",
          "data": {
            "text/html": [
              "<div>\n",
              "<style scoped>\n",
              "    .dataframe tbody tr th:only-of-type {\n",
              "        vertical-align: middle;\n",
              "    }\n",
              "\n",
              "    .dataframe tbody tr th {\n",
              "        vertical-align: top;\n",
              "    }\n",
              "\n",
              "    .dataframe thead th {\n",
              "        text-align: right;\n",
              "    }\n",
              "</style>\n",
              "<table border=\"1\" class=\"dataframe\">\n",
              "  <thead>\n",
              "    <tr style=\"text-align: right;\">\n",
              "      <th></th>\n",
              "      <th>RHEA_ID</th>\n",
              "      <th>DIRECTION</th>\n",
              "      <th>MASTER_ID</th>\n",
              "      <th>ID</th>\n",
              "    </tr>\n",
              "  </thead>\n",
              "  <tbody>\n",
              "    <tr>\n",
              "      <th>45</th>\n",
              "      <td>10191</td>\n",
              "      <td>BI</td>\n",
              "      <td>10188</td>\n",
              "      <td>R01978</td>\n",
              "    </tr>\n",
              "    <tr>\n",
              "      <th>62</th>\n",
              "      <td>10275</td>\n",
              "      <td>BI</td>\n",
              "      <td>10272</td>\n",
              "      <td>R02240</td>\n",
              "    </tr>\n",
              "    <tr>\n",
              "      <th>70</th>\n",
              "      <td>10307</td>\n",
              "      <td>BI</td>\n",
              "      <td>10304</td>\n",
              "      <td>R04864</td>\n",
              "    </tr>\n",
              "    <tr>\n",
              "      <th>76</th>\n",
              "      <td>10335</td>\n",
              "      <td>BI</td>\n",
              "      <td>10332</td>\n",
              "      <td>R01319</td>\n",
              "    </tr>\n",
              "    <tr>\n",
              "      <th>79</th>\n",
              "      <td>10347</td>\n",
              "      <td>BI</td>\n",
              "      <td>10344</td>\n",
              "      <td>R03109</td>\n",
              "    </tr>\n",
              "  </tbody>\n",
              "</table>\n",
              "</div>"
            ],
            "text/plain": [
              "    RHEA_ID DIRECTION  MASTER_ID      ID\n",
              "45    10191        BI      10188  R01978\n",
              "62    10275        BI      10272  R02240\n",
              "70    10307        BI      10304  R04864\n",
              "76    10335        BI      10332  R01319\n",
              "79    10347        BI      10344  R03109"
            ]
          },
          "metadata": {
            "tags": []
          },
          "execution_count": 87
        }
      ]
    },
    {
      "metadata": {
        "id": "ZM3Xy1oy6t3C",
        "colab_type": "code",
        "colab": {}
      },
      "cell_type": "code",
      "source": [
        "keggrids = lipidsInRhea2kegg[\"ID\"].unique()"
      ],
      "execution_count": 0,
      "outputs": []
    },
    {
      "metadata": {
        "id": "4WdYtsQE7jkZ",
        "colab_type": "code",
        "colab": {
          "base_uri": "https://localhost:8080/",
          "height": 34
        },
        "outputId": "8efc99e1-2a1b-48e3-8d3b-0bacefbe47ab"
      },
      "cell_type": "code",
      "source": [
        "keggrids.shape"
      ],
      "execution_count": 79,
      "outputs": [
        {
          "output_type": "execute_result",
          "data": {
            "text/plain": [
              "(351,)"
            ]
          },
          "metadata": {
            "tags": []
          },
          "execution_count": 79
        }
      ]
    },
    {
      "metadata": {
        "id": "7MJbZRaJ6Rwi",
        "colab_type": "text"
      },
      "cell_type": "markdown",
      "source": [
        "# These 351 reactions in EcoCyc?"
      ]
    },
    {
      "metadata": {
        "id": "jbXPTAmA13nn",
        "colab_type": "code",
        "colab": {}
      },
      "cell_type": "code",
      "source": [
        "ecocyc = pd.read_csv(\"ftp://ftp.expasy.org/databases/rhea/tsv/rhea2ecocyc.tsv\", sep=\"\\t\")"
      ],
      "execution_count": 0,
      "outputs": []
    },
    {
      "metadata": {
        "id": "t0A2arqK6YE_",
        "colab_type": "code",
        "colab": {
          "base_uri": "https://localhost:8080/",
          "height": 204
        },
        "outputId": "f1b34d54-f2ce-4ca0-fbaa-647cc7534fc1"
      },
      "cell_type": "code",
      "source": [
        "ecocyc.head()"
      ],
      "execution_count": 81,
      "outputs": [
        {
          "output_type": "execute_result",
          "data": {
            "text/html": [
              "<div>\n",
              "<style scoped>\n",
              "    .dataframe tbody tr th:only-of-type {\n",
              "        vertical-align: middle;\n",
              "    }\n",
              "\n",
              "    .dataframe tbody tr th {\n",
              "        vertical-align: top;\n",
              "    }\n",
              "\n",
              "    .dataframe thead th {\n",
              "        text-align: right;\n",
              "    }\n",
              "</style>\n",
              "<table border=\"1\" class=\"dataframe\">\n",
              "  <thead>\n",
              "    <tr style=\"text-align: right;\">\n",
              "      <th></th>\n",
              "      <th>RHEA_ID</th>\n",
              "      <th>DIRECTION</th>\n",
              "      <th>MASTER_ID</th>\n",
              "      <th>ID</th>\n",
              "    </tr>\n",
              "  </thead>\n",
              "  <tbody>\n",
              "    <tr>\n",
              "      <th>0</th>\n",
              "      <td>10041</td>\n",
              "      <td>LR</td>\n",
              "      <td>10040</td>\n",
              "      <td>325-BISPHOSPHATE-NUCLEOTIDASE-RXN</td>\n",
              "    </tr>\n",
              "    <tr>\n",
              "      <th>1</th>\n",
              "      <td>10093</td>\n",
              "      <td>LR</td>\n",
              "      <td>10092</td>\n",
              "      <td>DEOXYNUCLEOTIDE-3-PHOSPHATASE-RXN</td>\n",
              "    </tr>\n",
              "    <tr>\n",
              "      <th>2</th>\n",
              "      <td>10117</td>\n",
              "      <td>LR</td>\n",
              "      <td>10116</td>\n",
              "      <td>RXN-9952</td>\n",
              "    </tr>\n",
              "    <tr>\n",
              "      <th>3</th>\n",
              "      <td>10121</td>\n",
              "      <td>LR</td>\n",
              "      <td>10120</td>\n",
              "      <td>AMINOCYL-TRNA-HYDROLASE-RXN</td>\n",
              "    </tr>\n",
              "    <tr>\n",
              "      <th>4</th>\n",
              "      <td>10137</td>\n",
              "      <td>LR</td>\n",
              "      <td>10136</td>\n",
              "      <td>GLYOCARBOLIG-RXN</td>\n",
              "    </tr>\n",
              "  </tbody>\n",
              "</table>\n",
              "</div>"
            ],
            "text/plain": [
              "   RHEA_ID DIRECTION  MASTER_ID                                 ID\n",
              "0    10041        LR      10040  325-BISPHOSPHATE-NUCLEOTIDASE-RXN\n",
              "1    10093        LR      10092  DEOXYNUCLEOTIDE-3-PHOSPHATASE-RXN\n",
              "2    10117        LR      10116                           RXN-9952\n",
              "3    10121        LR      10120        AMINOCYL-TRNA-HYDROLASE-RXN\n",
              "4    10137        LR      10136                   GLYOCARBOLIG-RXN"
            ]
          },
          "metadata": {
            "tags": []
          },
          "execution_count": 81
        }
      ]
    },
    {
      "metadata": {
        "id": "9Nm1v4AY6qO_",
        "colab_type": "code",
        "colab": {
          "base_uri": "https://localhost:8080/",
          "height": 34
        },
        "outputId": "2146e281-9465-445a-9ec4-e75d64019128"
      },
      "cell_type": "code",
      "source": [
        "ecocyc[ecocyc[\"RHEA_ID\"].isin(lipidsInRhea2kegg[\"RHEA_ID\"])][\"ID\"].unique().shape"
      ],
      "execution_count": 82,
      "outputs": [
        {
          "output_type": "execute_result",
          "data": {
            "text/plain": [
              "(11,)"
            ]
          },
          "metadata": {
            "tags": []
          },
          "execution_count": 82
        }
      ]
    },
    {
      "metadata": {
        "id": "ZuPH3nbN8Cbv",
        "colab_type": "code",
        "colab": {
          "base_uri": "https://localhost:8080/",
          "height": 34
        },
        "outputId": "2bb88d2d-93fc-4b07-9f42-2c195ddff850"
      },
      "cell_type": "code",
      "source": [
        "ecocyc[ecocyc[\"MASTER_ID\"].isin(lipidsInRhea2kegg[\"MASTER_ID\"])][\"ID\"].unique().shape"
      ],
      "execution_count": 83,
      "outputs": [
        {
          "output_type": "execute_result",
          "data": {
            "text/plain": [
              "(33,)"
            ]
          },
          "metadata": {
            "tags": []
          },
          "execution_count": 83
        }
      ]
    },
    {
      "metadata": {
        "id": "GQEB4uW78VX_",
        "colab_type": "text"
      },
      "cell_type": "markdown",
      "source": [
        "We can see the reaction representations between EcoCyc and KEGG are quite different."
      ]
    },
    {
      "metadata": {
        "id": "Y2k1YjXY9JeV",
        "colab_type": "text"
      },
      "cell_type": "markdown",
      "source": [
        "# KEGG Lipid reaction list not in Ecocyc"
      ]
    },
    {
      "metadata": {
        "id": "cJ5Qrcxy_UMC",
        "colab_type": "text"
      },
      "cell_type": "markdown",
      "source": [
        "## Reaction IDs only in KEGG"
      ]
    },
    {
      "metadata": {
        "id": "aI5IErcB_S-V",
        "colab_type": "code",
        "colab": {}
      },
      "cell_type": "code",
      "source": [
        "masterIds = ecocyc[ecocyc[\"MASTER_ID\"].isin(lipidsInRhea2kegg[\"MASTER_ID\"])][\"MASTER_ID\"].unique()"
      ],
      "execution_count": 0,
      "outputs": []
    },
    {
      "metadata": {
        "id": "utffCeK7_mts",
        "colab_type": "code",
        "colab": {
          "base_uri": "https://localhost:8080/",
          "height": 85
        },
        "outputId": "2688d519-0d55-4491-aef7-10da15da8329"
      },
      "cell_type": "code",
      "source": [
        "masterIds"
      ],
      "execution_count": 86,
      "outputs": [
        {
          "output_type": "execute_result",
          "data": {
            "text/plain": [
              "array([10272, 10492, 10736, 11092, 11096, 11308, 12080, 12593, 13769,\n",
              "       15177, 15221, 15313, 15325, 16089, 16105, 16229, 16913, 18381,\n",
              "       19709, 19889, 20828, 21036, 21564, 21644, 22432, 23516, 23568,\n",
              "       30119, 31451, 33751, 33763, 41788, 41792, 41932])"
            ]
          },
          "metadata": {
            "tags": []
          },
          "execution_count": 86
        }
      ]
    },
    {
      "metadata": {
        "id": "WhsNtRenFiV2",
        "colab_type": "code",
        "colab": {}
      },
      "cell_type": "code",
      "source": [
        "commons = lipidsInRhea2kegg[lipidsInRhea2kegg[\"MASTER_ID\"].isin(masterIds)][\"ID\"].unique()"
      ],
      "execution_count": 0,
      "outputs": []
    },
    {
      "metadata": {
        "id": "uViiaPIqFovz",
        "colab_type": "code",
        "colab": {
          "base_uri": "https://localhost:8080/",
          "height": 119
        },
        "outputId": "ce49cd37-3a62-4f86-d1b3-8b49def77e5d"
      },
      "cell_type": "code",
      "source": [
        "commons"
      ],
      "execution_count": 109,
      "outputs": [
        {
          "output_type": "execute_result",
          "data": {
            "text/plain": [
              "array(['R02240', 'R06871', 'R00623', 'R00842', 'R00844', 'R00742',\n",
              "       'R10707', 'R01801', 'R01034', 'R02746', 'R01797', 'R00749',\n",
              "       'R00851', 'R06870', 'R02685', 'R01799', 'R01800', 'R01012',\n",
              "       'R02241', 'R00289', 'R02055', 'R00238', 'R00391', 'R00847',\n",
              "       'R01778', 'R01514', 'R07639', 'R04014', 'R07390', 'R02029',\n",
              "       'R07162', 'R01624', 'R01626', 'R01706'], dtype=object)"
            ]
          },
          "metadata": {
            "tags": []
          },
          "execution_count": 109
        }
      ]
    },
    {
      "metadata": {
        "id": "0JImvuYg-pzu",
        "colab_type": "code",
        "colab": {}
      },
      "cell_type": "code",
      "source": [
        "onlyInKegg = lipidsInRhea2kegg[~lipidsInRhea2kegg[\"MASTER_ID\"].isin(masterIds)][\"ID\"].unique()"
      ],
      "execution_count": 0,
      "outputs": []
    },
    {
      "metadata": {
        "id": "gIslovFfBpzF",
        "colab_type": "code",
        "colab": {
          "base_uri": "https://localhost:8080/",
          "height": 918
        },
        "outputId": "f3127599-78f3-4d0b-a39e-6f73a6047ad1"
      },
      "cell_type": "code",
      "source": [
        "onlyInKegg"
      ],
      "execution_count": 100,
      "outputs": [
        {
          "output_type": "execute_result",
          "data": {
            "text/plain": [
              "array(['R01978', 'R04864', 'R01319', 'R03109', 'R04309', 'R01596',\n",
              "       'R04469', 'R02266', 'R01312', 'R02251', 'R02056', 'R01802',\n",
              "       'R03468', 'R03370', 'R03262', 'R04263', 'R01497', 'R01923',\n",
              "       'R01039', 'R01021', 'R02265', 'R01318', 'R01468', 'R01500',\n",
              "       'R05775', 'R01498', 'R05759', 'R00856', 'R02042', 'R05703',\n",
              "       'R02002', 'R03718', 'R02893', 'R05333', 'R02402', 'R02242',\n",
              "       'R03617', 'R04807', 'R01310', 'R10828', 'R07296', 'R05794',\n",
              "       'R03199', 'R00639', 'R01281', 'R05731', 'R01836', 'R02691',\n",
              "       'R01838', 'R01594', 'R02814', 'R07204', 'R03353', 'R02620',\n",
              "       'R02976', 'R01011', 'R03325', 'R04472', 'R02350', 'R01030',\n",
              "       'R02239', 'R04413', 'R01891', 'R03977', 'R01274', 'R02347',\n",
              "       'R02349', 'R03719', 'R01593', 'R03415', 'R04126', 'R04473',\n",
              "       'R02817', 'R02268', 'R02689', 'R03627', 'R01595', 'R01026',\n",
              "       'R03059', 'R01013', 'R01461', 'R04452', 'R00748', 'R01495',\n",
              "       'R03058', 'R03360', 'R04520', 'R03991', 'R02214', 'R03454',\n",
              "       'R00846', 'R03437', 'R05641', 'R03455', 'R05639', 'R02464',\n",
              "       'R02000', 'R08969', 'R01023', 'R07215', 'R04813', 'R05718',\n",
              "       'R01890', 'R07372', 'R03086', 'R05164', 'R02541', 'R05835',\n",
              "       'R01928', 'R02222', 'R01366', 'R01047', 'R03404', 'R02037',\n",
              "       'R02477', 'R02476', 'R01361', 'R03610', 'R04017', 'R02542',\n",
              "       'R05776', 'R03110', 'R07218', 'R04427', 'R02114', 'R01929',\n",
              "       'R04856', 'R03200', 'R05679', 'R05680', 'R00855', 'R03276',\n",
              "       'R01463', 'R03401', 'R02208', 'R04363', 'R02462', 'R03866',\n",
              "       'R03814', 'R02872', 'R07061', 'R00385', 'R02745', 'R03402',\n",
              "       'R02978', 'R02563', 'R00702', 'R01833', 'R07207', 'R03626',\n",
              "       'R03775', 'R04571', 'R03119', 'R04517', 'R04518', 'R04158',\n",
              "       'R05740', 'R02794', 'R02267', 'R01041', 'R01496', 'R01456',\n",
              "       'R03438', 'R01175', 'R04256', 'R07209', 'R01360', 'R02581',\n",
              "       'R02038', 'R02352', 'R02353', 'R09515', 'R09516', 'R07863',\n",
              "       'R02874', 'R05640', 'R06868', 'R06869', 'R07062', 'R00410',\n",
              "       'R08966', 'R11043', 'R09944', 'R09106', 'R03026', 'R06520',\n",
              "       'R07376', 'R09506', 'R09631', 'R04754', 'R03990', 'R01470',\n",
              "       'R01036', 'R08158', 'R08159', 'R08157', 'R08174', 'R07057',\n",
              "       'R04749', 'R01279', 'R01280', 'R01752', 'R01975', 'R02487',\n",
              "       'R03777', 'R03857', 'R03980', 'R04170', 'R03778', 'R03858',\n",
              "       'R01177', 'R04748', 'R04737', 'R04738', 'R04739', 'R04740',\n",
              "       'R04741', 'R04742', 'R04743', 'R04744', 'R04745', 'R04746',\n",
              "       'R04747', 'R04751', 'R00848', 'R03354', 'R03974', 'R09875',\n",
              "       'R09905', 'R09811', 'R10825', 'R03424', 'R01320', 'R03611',\n",
              "       'R02030', 'R01321', 'R02057', 'R07497', 'R07494', 'R07505',\n",
              "       'R07506', 'R06872', 'R03677', 'R03689', 'R01351', 'R02692',\n",
              "       'R02723', 'R04855', 'R03933', 'R07869', 'R08761', 'R10255',\n",
              "       'R01926', 'R10326', 'R10331', 'R04311', 'R04360', 'R07389',\n",
              "       'R04321', 'R06364', 'R07386', 'R07379', 'R07380', 'R07388',\n",
              "       'R07382', 'R07383', 'R07384', 'R07381', 'R07387', 'R04361',\n",
              "       'R04162', 'R09470', 'R07495', 'R01457', 'R07507', 'R07498',\n",
              "       'R01462', 'R03311', 'R02501', 'R04761', 'R03087', 'R01840',\n",
              "       'R04759', 'R02351', 'R01999', 'R07053', 'R04377', 'R07050',\n",
              "       'R09451', 'R09452', 'R04952', 'R07496', 'R01837', 'R07108',\n",
              "       'R07109', 'R07110', 'R01406', 'R10827', 'R07208', 'R06526',\n",
              "       'R11060', 'R06519', 'R07491', 'R07489', 'R02498', 'R04826',\n",
              "       'R11080', 'R07933', 'R08723', 'R10850', 'R10826', 'R06867',\n",
              "       'R08517', 'R11458', 'R11459', 'R03263', 'R02497'], dtype=object)"
            ]
          },
          "metadata": {
            "tags": []
          },
          "execution_count": 100
        }
      ]
    },
    {
      "metadata": {
        "id": "LhrGGJH78O52",
        "colab_type": "code",
        "colab": {}
      },
      "cell_type": "code",
      "source": [
        "from IPython.display import HTML"
      ],
      "execution_count": 0,
      "outputs": []
    },
    {
      "metadata": {
        "id": "MG5q7Eaw9Csv",
        "colab_type": "code",
        "colab": {
          "base_uri": "https://localhost:8080/",
          "height": 24944
        },
        "outputId": "e7c878ce-87c0-4f12-e70c-1fc4bbb448f4"
      },
      "cell_type": "code",
      "source": [
        "imgsrcs = \"\"\n",
        "for id in onlyInKegg:\n",
        "  imgsrcs = imgsrcs + 'This is ' + id + '<img src=\"http://rest.kegg.jp/get/' + id + '/image\">'\n",
        "HTML(imgsrcs)"
      ],
      "execution_count": 106,
      "outputs": [
        {
          "output_type": "execute_result",
          "data": {
            "text/html": [
              "This is R01978<img src=\"http://rest.kegg.jp/get/R01978/image\">This is R04864<img src=\"http://rest.kegg.jp/get/R04864/image\">This is R01319<img src=\"http://rest.kegg.jp/get/R01319/image\">This is R03109<img src=\"http://rest.kegg.jp/get/R03109/image\">This is R04309<img src=\"http://rest.kegg.jp/get/R04309/image\">This is R01596<img src=\"http://rest.kegg.jp/get/R01596/image\">This is R04469<img src=\"http://rest.kegg.jp/get/R04469/image\">This is R02266<img src=\"http://rest.kegg.jp/get/R02266/image\">This is R01312<img src=\"http://rest.kegg.jp/get/R01312/image\">This is R02251<img src=\"http://rest.kegg.jp/get/R02251/image\">This is R02056<img src=\"http://rest.kegg.jp/get/R02056/image\">This is R01802<img src=\"http://rest.kegg.jp/get/R01802/image\">This is R03468<img src=\"http://rest.kegg.jp/get/R03468/image\">This is R03370<img src=\"http://rest.kegg.jp/get/R03370/image\">This is R03262<img src=\"http://rest.kegg.jp/get/R03262/image\">This is R04263<img src=\"http://rest.kegg.jp/get/R04263/image\">This is R01497<img src=\"http://rest.kegg.jp/get/R01497/image\">This is R01923<img src=\"http://rest.kegg.jp/get/R01923/image\">This is R01039<img src=\"http://rest.kegg.jp/get/R01039/image\">This is R01021<img src=\"http://rest.kegg.jp/get/R01021/image\">This is R02265<img src=\"http://rest.kegg.jp/get/R02265/image\">This is R01318<img src=\"http://rest.kegg.jp/get/R01318/image\">This is R01468<img src=\"http://rest.kegg.jp/get/R01468/image\">This is R01500<img src=\"http://rest.kegg.jp/get/R01500/image\">This is R05775<img src=\"http://rest.kegg.jp/get/R05775/image\">This is R01498<img src=\"http://rest.kegg.jp/get/R01498/image\">This is R05759<img src=\"http://rest.kegg.jp/get/R05759/image\">This is R00856<img src=\"http://rest.kegg.jp/get/R00856/image\">This is R02042<img src=\"http://rest.kegg.jp/get/R02042/image\">This is R05703<img src=\"http://rest.kegg.jp/get/R05703/image\">This is R02002<img src=\"http://rest.kegg.jp/get/R02002/image\">This is R03718<img src=\"http://rest.kegg.jp/get/R03718/image\">This is R02893<img src=\"http://rest.kegg.jp/get/R02893/image\">This is R05333<img src=\"http://rest.kegg.jp/get/R05333/image\">This is R02402<img src=\"http://rest.kegg.jp/get/R02402/image\">This is R02242<img src=\"http://rest.kegg.jp/get/R02242/image\">This is R03617<img src=\"http://rest.kegg.jp/get/R03617/image\">This is R04807<img src=\"http://rest.kegg.jp/get/R04807/image\">This is R01310<img src=\"http://rest.kegg.jp/get/R01310/image\">This is R10828<img src=\"http://rest.kegg.jp/get/R10828/image\">This is R07296<img src=\"http://rest.kegg.jp/get/R07296/image\">This is R05794<img src=\"http://rest.kegg.jp/get/R05794/image\">This is R03199<img src=\"http://rest.kegg.jp/get/R03199/image\">This is R00639<img src=\"http://rest.kegg.jp/get/R00639/image\">This is R01281<img src=\"http://rest.kegg.jp/get/R01281/image\">This is R05731<img src=\"http://rest.kegg.jp/get/R05731/image\">This is R01836<img src=\"http://rest.kegg.jp/get/R01836/image\">This is R02691<img src=\"http://rest.kegg.jp/get/R02691/image\">This is R01838<img src=\"http://rest.kegg.jp/get/R01838/image\">This is R01594<img src=\"http://rest.kegg.jp/get/R01594/image\">This is R02814<img src=\"http://rest.kegg.jp/get/R02814/image\">This is R07204<img src=\"http://rest.kegg.jp/get/R07204/image\">This is R03353<img src=\"http://rest.kegg.jp/get/R03353/image\">This is R02620<img src=\"http://rest.kegg.jp/get/R02620/image\">This is R02976<img src=\"http://rest.kegg.jp/get/R02976/image\">This is R01011<img src=\"http://rest.kegg.jp/get/R01011/image\">This is R03325<img src=\"http://rest.kegg.jp/get/R03325/image\">This is R04472<img src=\"http://rest.kegg.jp/get/R04472/image\">This is R02350<img src=\"http://rest.kegg.jp/get/R02350/image\">This is R01030<img src=\"http://rest.kegg.jp/get/R01030/image\">This is R02239<img src=\"http://rest.kegg.jp/get/R02239/image\">This is R04413<img src=\"http://rest.kegg.jp/get/R04413/image\">This is R01891<img src=\"http://rest.kegg.jp/get/R01891/image\">This is R03977<img src=\"http://rest.kegg.jp/get/R03977/image\">This is R01274<img src=\"http://rest.kegg.jp/get/R01274/image\">This is R02347<img src=\"http://rest.kegg.jp/get/R02347/image\">This is R02349<img src=\"http://rest.kegg.jp/get/R02349/image\">This is R03719<img src=\"http://rest.kegg.jp/get/R03719/image\">This is R01593<img src=\"http://rest.kegg.jp/get/R01593/image\">This is R03415<img src=\"http://rest.kegg.jp/get/R03415/image\">This is R04126<img src=\"http://rest.kegg.jp/get/R04126/image\">This is R04473<img src=\"http://rest.kegg.jp/get/R04473/image\">This is R02817<img src=\"http://rest.kegg.jp/get/R02817/image\">This is R02268<img src=\"http://rest.kegg.jp/get/R02268/image\">This is R02689<img src=\"http://rest.kegg.jp/get/R02689/image\">This is R03627<img src=\"http://rest.kegg.jp/get/R03627/image\">This is R01595<img src=\"http://rest.kegg.jp/get/R01595/image\">This is R01026<img src=\"http://rest.kegg.jp/get/R01026/image\">This is R03059<img src=\"http://rest.kegg.jp/get/R03059/image\">This is R01013<img src=\"http://rest.kegg.jp/get/R01013/image\">This is R01461<img src=\"http://rest.kegg.jp/get/R01461/image\">This is R04452<img src=\"http://rest.kegg.jp/get/R04452/image\">This is R00748<img src=\"http://rest.kegg.jp/get/R00748/image\">This is R01495<img src=\"http://rest.kegg.jp/get/R01495/image\">This is R03058<img src=\"http://rest.kegg.jp/get/R03058/image\">This is R03360<img src=\"http://rest.kegg.jp/get/R03360/image\">This is R04520<img src=\"http://rest.kegg.jp/get/R04520/image\">This is R03991<img src=\"http://rest.kegg.jp/get/R03991/image\">This is R02214<img src=\"http://rest.kegg.jp/get/R02214/image\">This is R03454<img src=\"http://rest.kegg.jp/get/R03454/image\">This is R00846<img src=\"http://rest.kegg.jp/get/R00846/image\">This is R03437<img src=\"http://rest.kegg.jp/get/R03437/image\">This is R05641<img src=\"http://rest.kegg.jp/get/R05641/image\">This is R03455<img src=\"http://rest.kegg.jp/get/R03455/image\">This is R05639<img src=\"http://rest.kegg.jp/get/R05639/image\">This is R02464<img src=\"http://rest.kegg.jp/get/R02464/image\">This is R02000<img src=\"http://rest.kegg.jp/get/R02000/image\">This is R08969<img src=\"http://rest.kegg.jp/get/R08969/image\">This is R01023<img src=\"http://rest.kegg.jp/get/R01023/image\">This is R07215<img src=\"http://rest.kegg.jp/get/R07215/image\">This is R04813<img src=\"http://rest.kegg.jp/get/R04813/image\">This is R05718<img src=\"http://rest.kegg.jp/get/R05718/image\">This is R01890<img src=\"http://rest.kegg.jp/get/R01890/image\">This is R07372<img src=\"http://rest.kegg.jp/get/R07372/image\">This is R03086<img src=\"http://rest.kegg.jp/get/R03086/image\">This is R05164<img src=\"http://rest.kegg.jp/get/R05164/image\">This is R02541<img src=\"http://rest.kegg.jp/get/R02541/image\">This is R05835<img src=\"http://rest.kegg.jp/get/R05835/image\">This is R01928<img src=\"http://rest.kegg.jp/get/R01928/image\">This is R02222<img src=\"http://rest.kegg.jp/get/R02222/image\">This is R01366<img src=\"http://rest.kegg.jp/get/R01366/image\">This is R01047<img src=\"http://rest.kegg.jp/get/R01047/image\">This is R03404<img src=\"http://rest.kegg.jp/get/R03404/image\">This is R02037<img src=\"http://rest.kegg.jp/get/R02037/image\">This is R02477<img src=\"http://rest.kegg.jp/get/R02477/image\">This is R02476<img src=\"http://rest.kegg.jp/get/R02476/image\">This is R01361<img src=\"http://rest.kegg.jp/get/R01361/image\">This is R03610<img src=\"http://rest.kegg.jp/get/R03610/image\">This is R04017<img src=\"http://rest.kegg.jp/get/R04017/image\">This is R02542<img src=\"http://rest.kegg.jp/get/R02542/image\">This is R05776<img src=\"http://rest.kegg.jp/get/R05776/image\">This is R03110<img src=\"http://rest.kegg.jp/get/R03110/image\">This is R07218<img src=\"http://rest.kegg.jp/get/R07218/image\">This is R04427<img src=\"http://rest.kegg.jp/get/R04427/image\">This is R02114<img src=\"http://rest.kegg.jp/get/R02114/image\">This is R01929<img src=\"http://rest.kegg.jp/get/R01929/image\">This is R04856<img src=\"http://rest.kegg.jp/get/R04856/image\">This is R03200<img src=\"http://rest.kegg.jp/get/R03200/image\">This is R05679<img src=\"http://rest.kegg.jp/get/R05679/image\">This is R05680<img src=\"http://rest.kegg.jp/get/R05680/image\">This is R00855<img src=\"http://rest.kegg.jp/get/R00855/image\">This is R03276<img src=\"http://rest.kegg.jp/get/R03276/image\">This is R01463<img src=\"http://rest.kegg.jp/get/R01463/image\">This is R03401<img src=\"http://rest.kegg.jp/get/R03401/image\">This is R02208<img src=\"http://rest.kegg.jp/get/R02208/image\">This is R04363<img src=\"http://rest.kegg.jp/get/R04363/image\">This is R02462<img src=\"http://rest.kegg.jp/get/R02462/image\">This is R03866<img src=\"http://rest.kegg.jp/get/R03866/image\">This is R03814<img src=\"http://rest.kegg.jp/get/R03814/image\">This is R02872<img src=\"http://rest.kegg.jp/get/R02872/image\">This is R07061<img src=\"http://rest.kegg.jp/get/R07061/image\">This is R00385<img src=\"http://rest.kegg.jp/get/R00385/image\">This is R02745<img src=\"http://rest.kegg.jp/get/R02745/image\">This is R03402<img src=\"http://rest.kegg.jp/get/R03402/image\">This is R02978<img src=\"http://rest.kegg.jp/get/R02978/image\">This is R02563<img src=\"http://rest.kegg.jp/get/R02563/image\">This is R00702<img src=\"http://rest.kegg.jp/get/R00702/image\">This is R01833<img src=\"http://rest.kegg.jp/get/R01833/image\">This is R07207<img src=\"http://rest.kegg.jp/get/R07207/image\">This is R03626<img src=\"http://rest.kegg.jp/get/R03626/image\">This is R03775<img src=\"http://rest.kegg.jp/get/R03775/image\">This is R04571<img src=\"http://rest.kegg.jp/get/R04571/image\">This is R03119<img src=\"http://rest.kegg.jp/get/R03119/image\">This is R04517<img src=\"http://rest.kegg.jp/get/R04517/image\">This is R04518<img src=\"http://rest.kegg.jp/get/R04518/image\">This is R04158<img src=\"http://rest.kegg.jp/get/R04158/image\">This is R05740<img src=\"http://rest.kegg.jp/get/R05740/image\">This is R02794<img src=\"http://rest.kegg.jp/get/R02794/image\">This is R02267<img src=\"http://rest.kegg.jp/get/R02267/image\">This is R01041<img src=\"http://rest.kegg.jp/get/R01041/image\">This is R01496<img src=\"http://rest.kegg.jp/get/R01496/image\">This is R01456<img src=\"http://rest.kegg.jp/get/R01456/image\">This is R03438<img src=\"http://rest.kegg.jp/get/R03438/image\">This is R01175<img src=\"http://rest.kegg.jp/get/R01175/image\">This is R04256<img src=\"http://rest.kegg.jp/get/R04256/image\">This is R07209<img src=\"http://rest.kegg.jp/get/R07209/image\">This is R01360<img src=\"http://rest.kegg.jp/get/R01360/image\">This is R02581<img src=\"http://rest.kegg.jp/get/R02581/image\">This is R02038<img src=\"http://rest.kegg.jp/get/R02038/image\">This is R02352<img src=\"http://rest.kegg.jp/get/R02352/image\">This is R02353<img src=\"http://rest.kegg.jp/get/R02353/image\">This is R09515<img src=\"http://rest.kegg.jp/get/R09515/image\">This is R09516<img src=\"http://rest.kegg.jp/get/R09516/image\">This is R07863<img src=\"http://rest.kegg.jp/get/R07863/image\">This is R02874<img src=\"http://rest.kegg.jp/get/R02874/image\">This is R05640<img src=\"http://rest.kegg.jp/get/R05640/image\">This is R06868<img src=\"http://rest.kegg.jp/get/R06868/image\">This is R06869<img src=\"http://rest.kegg.jp/get/R06869/image\">This is R07062<img src=\"http://rest.kegg.jp/get/R07062/image\">This is R00410<img src=\"http://rest.kegg.jp/get/R00410/image\">This is R08966<img src=\"http://rest.kegg.jp/get/R08966/image\">This is R11043<img src=\"http://rest.kegg.jp/get/R11043/image\">This is R09944<img src=\"http://rest.kegg.jp/get/R09944/image\">This is R09106<img src=\"http://rest.kegg.jp/get/R09106/image\">This is R03026<img src=\"http://rest.kegg.jp/get/R03026/image\">This is R06520<img src=\"http://rest.kegg.jp/get/R06520/image\">This is R07376<img src=\"http://rest.kegg.jp/get/R07376/image\">This is R09506<img src=\"http://rest.kegg.jp/get/R09506/image\">This is R09631<img src=\"http://rest.kegg.jp/get/R09631/image\">This is R04754<img src=\"http://rest.kegg.jp/get/R04754/image\">This is R03990<img src=\"http://rest.kegg.jp/get/R03990/image\">This is R01470<img src=\"http://rest.kegg.jp/get/R01470/image\">This is R01036<img src=\"http://rest.kegg.jp/get/R01036/image\">This is R08158<img src=\"http://rest.kegg.jp/get/R08158/image\">This is R08159<img src=\"http://rest.kegg.jp/get/R08159/image\">This is R08157<img src=\"http://rest.kegg.jp/get/R08157/image\">This is R08174<img src=\"http://rest.kegg.jp/get/R08174/image\">This is R07057<img src=\"http://rest.kegg.jp/get/R07057/image\">This is R04749<img src=\"http://rest.kegg.jp/get/R04749/image\">This is R01279<img src=\"http://rest.kegg.jp/get/R01279/image\">This is R01280<img src=\"http://rest.kegg.jp/get/R01280/image\">This is R01752<img src=\"http://rest.kegg.jp/get/R01752/image\">This is R01975<img src=\"http://rest.kegg.jp/get/R01975/image\">This is R02487<img src=\"http://rest.kegg.jp/get/R02487/image\">This is R03777<img src=\"http://rest.kegg.jp/get/R03777/image\">This is R03857<img src=\"http://rest.kegg.jp/get/R03857/image\">This is R03980<img src=\"http://rest.kegg.jp/get/R03980/image\">This is R04170<img src=\"http://rest.kegg.jp/get/R04170/image\">This is R03778<img src=\"http://rest.kegg.jp/get/R03778/image\">This is R03858<img src=\"http://rest.kegg.jp/get/R03858/image\">This is R01177<img src=\"http://rest.kegg.jp/get/R01177/image\">This is R04748<img src=\"http://rest.kegg.jp/get/R04748/image\">This is R04737<img src=\"http://rest.kegg.jp/get/R04737/image\">This is R04738<img src=\"http://rest.kegg.jp/get/R04738/image\">This is R04739<img src=\"http://rest.kegg.jp/get/R04739/image\">This is R04740<img src=\"http://rest.kegg.jp/get/R04740/image\">This is R04741<img src=\"http://rest.kegg.jp/get/R04741/image\">This is R04742<img src=\"http://rest.kegg.jp/get/R04742/image\">This is R04743<img src=\"http://rest.kegg.jp/get/R04743/image\">This is R04744<img src=\"http://rest.kegg.jp/get/R04744/image\">This is R04745<img src=\"http://rest.kegg.jp/get/R04745/image\">This is R04746<img src=\"http://rest.kegg.jp/get/R04746/image\">This is R04747<img src=\"http://rest.kegg.jp/get/R04747/image\">This is R04751<img src=\"http://rest.kegg.jp/get/R04751/image\">This is R00848<img src=\"http://rest.kegg.jp/get/R00848/image\">This is R03354<img src=\"http://rest.kegg.jp/get/R03354/image\">This is R03974<img src=\"http://rest.kegg.jp/get/R03974/image\">This is R09875<img src=\"http://rest.kegg.jp/get/R09875/image\">This is R09905<img src=\"http://rest.kegg.jp/get/R09905/image\">This is R09811<img src=\"http://rest.kegg.jp/get/R09811/image\">This is R10825<img src=\"http://rest.kegg.jp/get/R10825/image\">This is R03424<img src=\"http://rest.kegg.jp/get/R03424/image\">This is R01320<img src=\"http://rest.kegg.jp/get/R01320/image\">This is R03611<img src=\"http://rest.kegg.jp/get/R03611/image\">This is R02030<img src=\"http://rest.kegg.jp/get/R02030/image\">This is R01321<img src=\"http://rest.kegg.jp/get/R01321/image\">This is R02057<img src=\"http://rest.kegg.jp/get/R02057/image\">This is R07497<img src=\"http://rest.kegg.jp/get/R07497/image\">This is R07494<img src=\"http://rest.kegg.jp/get/R07494/image\">This is R07505<img src=\"http://rest.kegg.jp/get/R07505/image\">This is R07506<img src=\"http://rest.kegg.jp/get/R07506/image\">This is R06872<img src=\"http://rest.kegg.jp/get/R06872/image\">This is R03677<img src=\"http://rest.kegg.jp/get/R03677/image\">This is R03689<img src=\"http://rest.kegg.jp/get/R03689/image\">This is R01351<img src=\"http://rest.kegg.jp/get/R01351/image\">This is R02692<img src=\"http://rest.kegg.jp/get/R02692/image\">This is R02723<img src=\"http://rest.kegg.jp/get/R02723/image\">This is R04855<img src=\"http://rest.kegg.jp/get/R04855/image\">This is R03933<img src=\"http://rest.kegg.jp/get/R03933/image\">This is R07869<img src=\"http://rest.kegg.jp/get/R07869/image\">This is R08761<img src=\"http://rest.kegg.jp/get/R08761/image\">This is R10255<img src=\"http://rest.kegg.jp/get/R10255/image\">This is R01926<img src=\"http://rest.kegg.jp/get/R01926/image\">This is R10326<img src=\"http://rest.kegg.jp/get/R10326/image\">This is R10331<img src=\"http://rest.kegg.jp/get/R10331/image\">This is R04311<img src=\"http://rest.kegg.jp/get/R04311/image\">This is R04360<img src=\"http://rest.kegg.jp/get/R04360/image\">This is R07389<img src=\"http://rest.kegg.jp/get/R07389/image\">This is R04321<img src=\"http://rest.kegg.jp/get/R04321/image\">This is R06364<img src=\"http://rest.kegg.jp/get/R06364/image\">This is R07386<img src=\"http://rest.kegg.jp/get/R07386/image\">This is R07379<img src=\"http://rest.kegg.jp/get/R07379/image\">This is R07380<img src=\"http://rest.kegg.jp/get/R07380/image\">This is R07388<img src=\"http://rest.kegg.jp/get/R07388/image\">This is R07382<img src=\"http://rest.kegg.jp/get/R07382/image\">This is R07383<img src=\"http://rest.kegg.jp/get/R07383/image\">This is R07384<img src=\"http://rest.kegg.jp/get/R07384/image\">This is R07381<img src=\"http://rest.kegg.jp/get/R07381/image\">This is R07387<img src=\"http://rest.kegg.jp/get/R07387/image\">This is R04361<img src=\"http://rest.kegg.jp/get/R04361/image\">This is R04162<img src=\"http://rest.kegg.jp/get/R04162/image\">This is R09470<img src=\"http://rest.kegg.jp/get/R09470/image\">This is R07495<img src=\"http://rest.kegg.jp/get/R07495/image\">This is R01457<img src=\"http://rest.kegg.jp/get/R01457/image\">This is R07507<img src=\"http://rest.kegg.jp/get/R07507/image\">This is R07498<img src=\"http://rest.kegg.jp/get/R07498/image\">This is R01462<img src=\"http://rest.kegg.jp/get/R01462/image\">This is R03311<img src=\"http://rest.kegg.jp/get/R03311/image\">This is R02501<img src=\"http://rest.kegg.jp/get/R02501/image\">This is R04761<img src=\"http://rest.kegg.jp/get/R04761/image\">This is R03087<img src=\"http://rest.kegg.jp/get/R03087/image\">This is R01840<img src=\"http://rest.kegg.jp/get/R01840/image\">This is R04759<img src=\"http://rest.kegg.jp/get/R04759/image\">This is R02351<img src=\"http://rest.kegg.jp/get/R02351/image\">This is R01999<img src=\"http://rest.kegg.jp/get/R01999/image\">This is R07053<img src=\"http://rest.kegg.jp/get/R07053/image\">This is R04377<img src=\"http://rest.kegg.jp/get/R04377/image\">This is R07050<img src=\"http://rest.kegg.jp/get/R07050/image\">This is R09451<img src=\"http://rest.kegg.jp/get/R09451/image\">This is R09452<img src=\"http://rest.kegg.jp/get/R09452/image\">This is R04952<img src=\"http://rest.kegg.jp/get/R04952/image\">This is R07496<img src=\"http://rest.kegg.jp/get/R07496/image\">This is R01837<img src=\"http://rest.kegg.jp/get/R01837/image\">This is R07108<img src=\"http://rest.kegg.jp/get/R07108/image\">This is R07109<img src=\"http://rest.kegg.jp/get/R07109/image\">This is R07110<img src=\"http://rest.kegg.jp/get/R07110/image\">This is R01406<img src=\"http://rest.kegg.jp/get/R01406/image\">This is R10827<img src=\"http://rest.kegg.jp/get/R10827/image\">This is R07208<img src=\"http://rest.kegg.jp/get/R07208/image\">This is R06526<img src=\"http://rest.kegg.jp/get/R06526/image\">This is R11060<img src=\"http://rest.kegg.jp/get/R11060/image\">This is R06519<img src=\"http://rest.kegg.jp/get/R06519/image\">This is R07491<img src=\"http://rest.kegg.jp/get/R07491/image\">This is R07489<img src=\"http://rest.kegg.jp/get/R07489/image\">This is R02498<img src=\"http://rest.kegg.jp/get/R02498/image\">This is R04826<img src=\"http://rest.kegg.jp/get/R04826/image\">This is R11080<img src=\"http://rest.kegg.jp/get/R11080/image\">This is R07933<img src=\"http://rest.kegg.jp/get/R07933/image\">This is R08723<img src=\"http://rest.kegg.jp/get/R08723/image\">This is R10850<img src=\"http://rest.kegg.jp/get/R10850/image\">This is R10826<img src=\"http://rest.kegg.jp/get/R10826/image\">This is R06867<img src=\"http://rest.kegg.jp/get/R06867/image\">This is R08517<img src=\"http://rest.kegg.jp/get/R08517/image\">This is R11458<img src=\"http://rest.kegg.jp/get/R11458/image\">This is R11459<img src=\"http://rest.kegg.jp/get/R11459/image\">This is R03263<img src=\"http://rest.kegg.jp/get/R03263/image\">This is R02497<img src=\"http://rest.kegg.jp/get/R02497/image\">"
            ],
            "text/plain": [
              "<IPython.core.display.HTML object>"
            ]
          },
          "metadata": {
            "tags": []
          },
          "execution_count": 106
        }
      ]
    }
  ]
}
